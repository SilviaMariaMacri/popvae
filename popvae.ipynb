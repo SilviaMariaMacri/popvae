{
 "cells": [
  {
   "cell_type": "markdown",
   "id": "7803c8d1",
   "metadata": {},
   "source": [
    "# POPVAE"
   ]
  },
  {
   "cell_type": "code",
   "execution_count": null,
   "id": "a1dd5cd8",
   "metadata": {},
   "outputs": [],
   "source": [
    "cd  \"C:\\Users\\silvi\\Desktop\\Fisica\\TESI\\popvae\"\n",
    "\n",
    "import tensorflow.keras as keras\n",
    "import numpy as np \n",
    "import os \n",
    "import allel\n",
    "import pandas as pd\n",
    "import time\n",
    "import random\n",
    "import zarr, subprocess, h5py, re, sys, argparse\n",
    "from matplotlib import pyplot as plt\n",
    "from tqdm import tqdm\n",
    "#from keras.models import Sequential\n",
    "from tensorflow.keras import layers\n",
    "#from keras.layers.core import Lambda\n",
    "from tensorflow.keras import backend as K\n",
    "from tensorflow.keras.models import Model\n",
    "import tensorflow\n",
    "import matplotlib.pyplot as plt\n",
    "import json"
   ]
  },
  {
   "cell_type": "markdown",
   "id": "107b3683",
   "metadata": {},
   "source": [
    "load euromds dataset"
   ]
  },
  {
   "cell_type": "code",
   "execution_count": 149,
   "id": "40a1a024",
   "metadata": {},
   "outputs": [],
   "source": [
    "data = json.load(open(infile,'r'))\n",
    "data = np.array(data)\n",
    "# exclude duplicate rows:\n",
    "data = np.unique(data,axis=0)\n",
    "\n",
    "#true_labels = json.load(open('data/euromds/euromds_labels.json','r'))\n",
    "#true_labels = np.array(true_labels)\n",
    "#data_with_labels = np.hstack([data,true_labels.reshape((len(true_labels),1))])"
   ]
  },
  {
   "cell_type": "markdown",
   "id": "4f38dd50",
   "metadata": {},
   "source": [
    "load model"
   ]
  },
  {
   "cell_type": "code",
   "execution_count": 140,
   "id": "92abaf6c",
   "metadata": {},
   "outputs": [],
   "source": [
    "n_iterations = 6\n",
    "mean = []\n",
    "sd = []\n",
    "sample = []\n",
    "for i in range(n_iterations):\n",
    "\n",
    "    args = json.load(open('out/euromds'+str(i)+'/config.json','r')) # stessa configurazione di euromds1\n",
    "\n",
    "    stddev_epsilon=args['stddev_epsilon']    \n",
    "    infile=args['infile']\n",
    "    save_allele_counts=args['save_allele_counts']\n",
    "    patience=args['patience']\n",
    "    batch_size=args['batch_size']\n",
    "    max_epochs=args['max_epochs']\n",
    "    seed=args['seed']\n",
    "    save_weights=args['save_weights']\n",
    "    train_prop=args['train_prop']\n",
    "    gpu_number=args['gpu_number']\n",
    "    out=args['out']\n",
    "    prediction_freq=args['prediction_freq']\n",
    "    max_SNPs=args['max_SNPs']\n",
    "    latent_dim=args['latent_dim']\n",
    "    prune_LD=args['prune_LD']\n",
    "    prune_iter=args['prune_iter']\n",
    "    prune_size=args['prune_size']\n",
    "    PCA=args['PCA']\n",
    "    PCA_scaler=args['PCA_scaler']\n",
    "    depth=args['depth']\n",
    "    width=args['width']\n",
    "    n_pc_axes=args['n_pc_axes']\n",
    "    search_network_sizes=args['search_network_sizes']\n",
    "    plot=args['plot']\n",
    "    depth_range=args['depth_range']\n",
    "    depth_range=np.array([int(x) for x in re.split(\",\",depth_range)])\n",
    "    width_range=args['width_range']\n",
    "    width_range=np.array([int(x) for x in re.split(\",\",width_range)])\n",
    "\n",
    "    if not seed==None:\n",
    "        os.environ['PYTHONHASHSEED']=str(seed)\n",
    "        random.seed(seed)\n",
    "        np.random.seed(seed)\n",
    "        tensorflow.set_random_seed(seed)\n",
    "\n",
    "    os.environ[\"CUDA_VISIBLE_DEVICES\"]=gpu_number\n",
    "\n",
    "\n",
    "    ### load model\n",
    "\n",
    "    def sampling(args):\n",
    "        z_mean, z_log_var = args\n",
    "        epsilon = K.random_normal(shape=(K.shape(z_mean)[0], latent_dim),\n",
    "                                  mean=0., stddev=stddev_epsilon,seed=seed)\n",
    "        return z_mean + K.exp(z_log_var) * epsilon\n",
    "\n",
    "    #encoder\n",
    "    input_seq = keras.Input(shape=(data.shape[1],))\n",
    "    x=layers.Dense(width,activation=\"elu\")(input_seq)\n",
    "    for i in range(depth-1):\n",
    "        x=layers.Dense(width,activation=\"elu\")(x)\n",
    "    z_mean=layers.Dense(latent_dim)(x)\n",
    "    z_log_var=layers.Dense(latent_dim)(x)\n",
    "    z = layers.Lambda(sampling,output_shape=(latent_dim,), name='z')([z_mean, z_log_var])\n",
    "    encoder=Model(input_seq,[z_mean,z_log_var,z],name='encoder')\n",
    "\n",
    "    #decoder\n",
    "    decoder_input=layers.Input(shape=(latent_dim,),name='z_sampling')\n",
    "    x=layers.Dense(width,activation=\"linear\")(decoder_input)#was elu\n",
    "    for i in range(depth-1):\n",
    "        x=layers.Dense(width,activation=\"elu\")(x)\n",
    "    output=layers.Dense(data.shape[1],activation=\"sigmoid\")(x) #hard sigmoid seems natural here but appears to lead to more left-skewed decoder outputs.\n",
    "    decoder=Model(decoder_input,output,name='decoder')\n",
    "\n",
    "    #end-to-end vae\n",
    "    output_seq = decoder(encoder(input_seq)[2])\n",
    "    vae = Model(input_seq, output_seq, name='vae')\n",
    "\n",
    "    reconstruction_loss = keras.losses.binary_crossentropy(input_seq,output_seq)\n",
    "    reconstruction_loss *= data.shape[1]\n",
    "    kl_loss = 1 + z_log_var - K.square(z_mean) - K.exp(z_log_var)\n",
    "    kl_loss = K.sum(kl_loss, axis=-1)\n",
    "    kl_loss *= -0.5\n",
    "    vae_loss = K.mean(reconstruction_loss + kl_loss)\n",
    "\n",
    "    vae.add_loss(vae_loss)\n",
    "\n",
    "\n",
    "    ### load parameters and append mean, ad and sample \n",
    "    vae.load_weights(\"out/euromds\"+str(i)+\"/euromds_weights.hdf5\")\n",
    "    #print(vae.get_weights())\n",
    "    mean.append(encoder(data)[0])\n",
    "    sd.append(encoder(data)[1])\n",
    "    sample.append(encoder(data)[2])"
   ]
  },
  {
   "cell_type": "code",
   "execution_count": 141,
   "id": "0b8ff47e",
   "metadata": {},
   "outputs": [
    {
     "name": "stdout",
     "output_type": "stream",
     "text": [
      "Model: \"encoder\"\n",
      "__________________________________________________________________________________________________\n",
      "Layer (type)                    Output Shape         Param #     Connected to                     \n",
      "==================================================================================================\n",
      "input_8 (InputLayer)            [(None, 54)]         0                                            \n",
      "__________________________________________________________________________________________________\n",
      "dense_105 (Dense)               (None, 128)          7040        input_8[0][0]                    \n",
      "__________________________________________________________________________________________________\n",
      "dense_106 (Dense)               (None, 128)          16512       dense_105[0][0]                  \n",
      "__________________________________________________________________________________________________\n",
      "dense_107 (Dense)               (None, 128)          16512       dense_106[0][0]                  \n",
      "__________________________________________________________________________________________________\n",
      "dense_108 (Dense)               (None, 128)          16512       dense_107[0][0]                  \n",
      "__________________________________________________________________________________________________\n",
      "dense_109 (Dense)               (None, 128)          16512       dense_108[0][0]                  \n",
      "__________________________________________________________________________________________________\n",
      "dense_110 (Dense)               (None, 128)          16512       dense_109[0][0]                  \n",
      "__________________________________________________________________________________________________\n",
      "dense_111 (Dense)               (None, 2)            258         dense_110[0][0]                  \n",
      "__________________________________________________________________________________________________\n",
      "dense_112 (Dense)               (None, 2)            258         dense_110[0][0]                  \n",
      "__________________________________________________________________________________________________\n",
      "z (Lambda)                      (None, 2)            0           dense_111[0][0]                  \n",
      "                                                                 dense_112[0][0]                  \n",
      "==================================================================================================\n",
      "Total params: 90,116\n",
      "Trainable params: 90,116\n",
      "Non-trainable params: 0\n",
      "__________________________________________________________________________________________________\n"
     ]
    }
   ],
   "source": [
    "encoder.summary()"
   ]
  },
  {
   "cell_type": "code",
   "execution_count": 142,
   "id": "6f9225e1",
   "metadata": {},
   "outputs": [
    {
     "name": "stdout",
     "output_type": "stream",
     "text": [
      "Model: \"decoder\"\n",
      "_________________________________________________________________\n",
      "Layer (type)                 Output Shape              Param #   \n",
      "=================================================================\n",
      "z_sampling (InputLayer)      [(None, 2)]               0         \n",
      "_________________________________________________________________\n",
      "dense_113 (Dense)            (None, 128)               384       \n",
      "_________________________________________________________________\n",
      "dense_114 (Dense)            (None, 128)               16512     \n",
      "_________________________________________________________________\n",
      "dense_115 (Dense)            (None, 128)               16512     \n",
      "_________________________________________________________________\n",
      "dense_116 (Dense)            (None, 128)               16512     \n",
      "_________________________________________________________________\n",
      "dense_117 (Dense)            (None, 128)               16512     \n",
      "_________________________________________________________________\n",
      "dense_118 (Dense)            (None, 128)               16512     \n",
      "_________________________________________________________________\n",
      "dense_119 (Dense)            (None, 54)                6966      \n",
      "=================================================================\n",
      "Total params: 89,910\n",
      "Trainable params: 89,910\n",
      "Non-trainable params: 0\n",
      "_________________________________________________________________\n"
     ]
    }
   ],
   "source": [
    "decoder.summary()"
   ]
  },
  {
   "cell_type": "code",
   "execution_count": 143,
   "id": "fadd389c",
   "metadata": {
    "scrolled": false
   },
   "outputs": [
    {
     "name": "stdout",
     "output_type": "stream",
     "text": [
      "Model: \"vae0\"\n",
      "__________________________________________________________________________________________________\n",
      "Layer (type)                    Output Shape         Param #     Connected to                     \n",
      "==================================================================================================\n",
      "input_8 (InputLayer)            [(None, 54)]         0                                            \n",
      "__________________________________________________________________________________________________\n",
      "encoder (Functional)            [(None, 2), (None, 2 90116       input_8[0][0]                    \n",
      "__________________________________________________________________________________________________\n",
      "decoder (Functional)            (None, 54)           89910       encoder[0][2]                    \n",
      "__________________________________________________________________________________________________\n",
      "dense_105 (Dense)               (None, 128)          7040        input_8[0][0]                    \n",
      "__________________________________________________________________________________________________\n",
      "dense_106 (Dense)               (None, 128)          16512       dense_105[0][0]                  \n",
      "__________________________________________________________________________________________________\n",
      "tf_op_layer_Minimum_7 (TensorFl [(None, 54)]         0           decoder[0][0]                    \n",
      "__________________________________________________________________________________________________\n",
      "dense_107 (Dense)               (None, 128)          16512       dense_106[0][0]                  \n",
      "__________________________________________________________________________________________________\n",
      "tf_op_layer_Maximum_7 (TensorFl [(None, 54)]         0           tf_op_layer_Minimum_7[0][0]      \n",
      "__________________________________________________________________________________________________\n",
      "dense_108 (Dense)               (None, 128)          16512       dense_107[0][0]                  \n",
      "__________________________________________________________________________________________________\n",
      "tf_op_layer_Sub_29 (TensorFlowO [(None, 54)]         0           tf_op_layer_Maximum_7[0][0]      \n",
      "__________________________________________________________________________________________________\n",
      "dense_109 (Dense)               (None, 128)          16512       dense_108[0][0]                  \n",
      "__________________________________________________________________________________________________\n",
      "tf_op_layer_AddV2_35 (TensorFlo [(None, 54)]         0           tf_op_layer_Maximum_7[0][0]      \n",
      "__________________________________________________________________________________________________\n",
      "tf_op_layer_AddV2_36 (TensorFlo [(None, 54)]         0           tf_op_layer_Sub_29[0][0]         \n",
      "__________________________________________________________________________________________________\n",
      "dense_110 (Dense)               (None, 128)          16512       dense_109[0][0]                  \n",
      "__________________________________________________________________________________________________\n",
      "tf_op_layer_Log_14 (TensorFlowO [(None, 54)]         0           tf_op_layer_AddV2_35[0][0]       \n",
      "__________________________________________________________________________________________________\n",
      "tf_op_layer_Sub_28 (TensorFlowO [(None, 54)]         0           input_8[0][0]                    \n",
      "__________________________________________________________________________________________________\n",
      "tf_op_layer_Log_15 (TensorFlowO [(None, 54)]         0           tf_op_layer_AddV2_36[0][0]       \n",
      "__________________________________________________________________________________________________\n",
      "dense_112 (Dense)               (None, 2)            258         dense_110[0][0]                  \n",
      "__________________________________________________________________________________________________\n",
      "dense_111 (Dense)               (None, 2)            258         dense_110[0][0]                  \n",
      "__________________________________________________________________________________________________\n",
      "tf_op_layer_Mul_28 (TensorFlowO [(None, 54)]         0           input_8[0][0]                    \n",
      "                                                                 tf_op_layer_Log_14[0][0]         \n",
      "__________________________________________________________________________________________________\n",
      "tf_op_layer_Mul_29 (TensorFlowO [(None, 54)]         0           tf_op_layer_Sub_28[0][0]         \n",
      "                                                                 tf_op_layer_Log_15[0][0]         \n",
      "__________________________________________________________________________________________________\n",
      "tf_op_layer_AddV2_38 (TensorFlo [(None, 2)]          0           dense_112[0][0]                  \n",
      "__________________________________________________________________________________________________\n",
      "tf_op_layer_Square_7 (TensorFlo [(None, 2)]          0           dense_111[0][0]                  \n",
      "__________________________________________________________________________________________________\n",
      "tf_op_layer_AddV2_37 (TensorFlo [(None, 54)]         0           tf_op_layer_Mul_28[0][0]         \n",
      "                                                                 tf_op_layer_Mul_29[0][0]         \n",
      "__________________________________________________________________________________________________\n",
      "tf_op_layer_Sub_30 (TensorFlowO [(None, 2)]          0           tf_op_layer_AddV2_38[0][0]       \n",
      "                                                                 tf_op_layer_Square_7[0][0]       \n",
      "__________________________________________________________________________________________________\n",
      "tf_op_layer_Exp_7 (TensorFlowOp [(None, 2)]          0           dense_112[0][0]                  \n",
      "__________________________________________________________________________________________________\n",
      "tf_op_layer_Neg_7 (TensorFlowOp [(None, 54)]         0           tf_op_layer_AddV2_37[0][0]       \n",
      "__________________________________________________________________________________________________\n",
      "tf_op_layer_Sub_31 (TensorFlowO [(None, 2)]          0           tf_op_layer_Sub_30[0][0]         \n",
      "                                                                 tf_op_layer_Exp_7[0][0]          \n",
      "__________________________________________________________________________________________________\n",
      "tf_op_layer_Mean_14 (TensorFlow [(None,)]            0           tf_op_layer_Neg_7[0][0]          \n",
      "__________________________________________________________________________________________________\n",
      "tf_op_layer_Sum_7 (TensorFlowOp [(None,)]            0           tf_op_layer_Sub_31[0][0]         \n",
      "__________________________________________________________________________________________________\n",
      "tf_op_layer_Mul_30 (TensorFlowO [(None,)]            0           tf_op_layer_Mean_14[0][0]        \n",
      "__________________________________________________________________________________________________\n",
      "tf_op_layer_Mul_31 (TensorFlowO [(None,)]            0           tf_op_layer_Sum_7[0][0]          \n",
      "__________________________________________________________________________________________________\n",
      "tf_op_layer_AddV2_39 (TensorFlo [(None,)]            0           tf_op_layer_Mul_30[0][0]         \n",
      "                                                                 tf_op_layer_Mul_31[0][0]         \n",
      "__________________________________________________________________________________________________\n",
      "tf_op_layer_Mean_15 (TensorFlow [()]                 0           tf_op_layer_AddV2_39[0][0]       \n",
      "__________________________________________________________________________________________________\n",
      "add_loss_9 (AddLoss)            ()                   0           tf_op_layer_Mean_15[0][0]        \n",
      "==================================================================================================\n",
      "Total params: 180,026\n",
      "Trainable params: 180,026\n",
      "Non-trainable params: 0\n",
      "__________________________________________________________________________________________________\n"
     ]
    }
   ],
   "source": [
    "vae.summary()"
   ]
  },
  {
   "cell_type": "markdown",
   "id": "f009bc10",
   "metadata": {},
   "source": [
    "load weights"
   ]
  },
  {
   "cell_type": "code",
   "execution_count": 154,
   "id": "52cd3227",
   "metadata": {},
   "outputs": [],
   "source": [
    "n_iterations = 6\n",
    "mean = []\n",
    "sd = []\n",
    "sample = []\n",
    "for i in range(n_iterations):\n",
    "    vae.load_weights(\"out/euromds\"+str(i)+\"/euromds_weights.hdf5\")\n",
    "    #print(vae.get_weights())\n",
    "    mean.append(encoder(data)[0])\n",
    "    sd.append(encoder(data)[1])\n",
    "    sample.append(encoder(data)[2])"
   ]
  },
  {
   "cell_type": "code",
   "execution_count": null,
   "id": "14df850d",
   "metadata": {},
   "outputs": [],
   "source": []
  },
  {
   "cell_type": "code",
   "execution_count": null,
   "id": "35a0ac4d",
   "metadata": {},
   "outputs": [],
   "source": []
  },
  {
   "cell_type": "code",
   "execution_count": 47,
   "id": "ed2ed24b",
   "metadata": {},
   "outputs": [],
   "source": [
    "latent_coords0 = pd.read_csv('out/euromds0/euromds_latent_coords.txt',sep='\\t')\n",
    "latent_coords1 = pd.read_csv('out/euromds1/euromds_latent_coords.txt',sep='\\t')"
   ]
  },
  {
   "cell_type": "code",
   "execution_count": null,
   "id": "65dc3100",
   "metadata": {},
   "outputs": [],
   "source": [
    "verify mean and standard deviation"
   ]
  },
  {
   "cell_type": "code",
   "execution_count": 49,
   "id": "2aefb0dc",
   "metadata": {},
   "outputs": [
    {
     "data": {
      "text/plain": [
       "mean1   -0.390397\n",
       "mean2   -0.044587\n",
       "Name: 0, dtype: float64"
      ]
     },
     "execution_count": 49,
     "metadata": {},
     "output_type": "execute_result"
    }
   ],
   "source": [
    "latent_coords0[['mean1','mean2']].iloc[0]"
   ]
  },
  {
   "cell_type": "code",
   "execution_count": 50,
   "id": "10a881b5",
   "metadata": {},
   "outputs": [
    {
     "data": {
      "text/plain": [
       "<tf.Tensor: shape=(2,), dtype=float32, numpy=array([-0.3903967 , -0.04458711], dtype=float32)>"
      ]
     },
     "execution_count": 50,
     "metadata": {},
     "output_type": "execute_result"
    }
   ],
   "source": [
    "mean0[0]"
   ]
  },
  {
   "cell_type": "code",
   "execution_count": 67,
   "id": "478985a5",
   "metadata": {},
   "outputs": [
    {
     "data": {
      "text/plain": [
       "<matplotlib.collections.PathCollection at 0x25e46e15b88>"
      ]
     },
     "execution_count": 67,
     "metadata": {},
     "output_type": "execute_result"
    },
    {
     "data": {
      "image/png": "[encoded data removed]",
      "text/plain": [
       "<Figure size 432x288 with 1 Axes>"
      ]
     },
     "metadata": {
      "needs_background": "light"
     },
     "output_type": "display_data"
    }
   ],
   "source": [
    "import matplotlib.pyplot as plt\n",
    "fig,ax = plt.subplots()\n",
    "ax.scatter(mean0[:,0],mean0[:,1],s=3)"
   ]
  },
  {
   "cell_type": "code",
   "execution_count": 68,
   "id": "74bb8558",
   "metadata": {},
   "outputs": [
    {
     "data": {
      "text/plain": [
       "<matplotlib.collections.PathCollection at 0x25e46e5c788>"
      ]
     },
     "execution_count": 68,
     "metadata": {},
     "output_type": "execute_result"
    },
    {
     "data": {
      "image/png": "[encoded data removed]",
      "text/plain": [
       "<Figure size 432x288 with 1 Axes>"
      ]
     },
     "metadata": {
      "needs_background": "light"
     },
     "output_type": "display_data"
    }
   ],
   "source": [
    "import matplotlib.pyplot as plt\n",
    "fig,ax = plt.subplots()\n",
    "ax.scatter(mean1[:,0],mean1[:,1],s=3)"
   ]
  },
  {
   "cell_type": "code",
   "execution_count": 57,
   "id": "6fe61bc7",
   "metadata": {},
   "outputs": [
    {
     "name": "stdout",
     "output_type": "stream",
     "text": [
      "0.4689254720123191\n"
     ]
    }
   ],
   "source": [
    "from sklearn.cluster import KMeans\n",
    "from sklearn.metrics import adjusted_mutual_info_score as ami\n",
    "kmeans = KMeans(n_clusters=6)\n",
    "p0 = kmeans.fit_predict(mean0)\n",
    "p1 = kmeans.fit_predict(mean1)\n",
    "print(ami(p0,p1))\n",
    "\n",
    "df_mean0 = pd.DataFrame(mean0)\n",
    "df_mean1 = pd.DataFrame(mean1)\n",
    "df_mean0['label_kmeans'] = p0\n",
    "df_mean1['label_kmeans'] = p1"
   ]
  },
  {
   "cell_type": "code",
   "execution_count": 113,
   "id": "f18b8e6b",
   "metadata": {},
   "outputs": [
    {
     "data": {
      "image/png": "[encoded data removed]",
      "text/plain": [
       "<Figure size 432x288 with 1 Axes>"
      ]
     },
     "metadata": {
      "needs_background": "light"
     },
     "output_type": "display_data"
    }
   ],
   "source": [
    "fig,ax = plt.subplots()\n",
    "for i in range(6):\n",
    "    ax.scatter(df_mean0.query('label_kmeans=='+str(i))[0],df_mean0.query('label_kmeans=='+str(i))[1],s=3)"
   ]
  },
  {
   "cell_type": "code",
   "execution_count": 112,
   "id": "8034e7dc",
   "metadata": {},
   "outputs": [
    {
     "data": {
      "image/png": "[encoded data removed]",
      "text/plain": [
       "<Figure size 432x288 with 1 Axes>"
      ]
     },
     "metadata": {
      "needs_background": "light"
     },
     "output_type": "display_data"
    }
   ],
   "source": [
    "fig,ax = plt.subplots()\n",
    "for i in range(6):\n",
    "    ax.scatter(df_mean1.query('label_kmeans=='+str(i))[0],df_mean1.query('label_kmeans=='+str(i))[1],s=3)"
   ]
  },
  {
   "cell_type": "code",
   "execution_count": 116,
   "id": "9c1f7263",
   "metadata": {},
   "outputs": [
    {
     "name": "stdout",
     "output_type": "stream",
     "text": [
      "0.38930446286498344\n"
     ]
    }
   ],
   "source": [
    "from sklearn.cluster import SpectralClustering\n",
    "#from sklearn.metrics import adjusted_mutual_info_score as ami\n",
    "sc = SpectralClustering(n_clusters=6)\n",
    "p0 = sc.fit_predict(mean0)\n",
    "p1 = sc.fit_predict(mean1)\n",
    "print(ami(p0,p1))\n",
    "\n",
    "df_mean0['label_sc'] = p0\n",
    "df_mean1['label_sc'] = p1"
   ]
  },
  {
   "cell_type": "code",
   "execution_count": 118,
   "id": "aa5d0f48",
   "metadata": {},
   "outputs": [
    {
     "data": {
      "image/png": "[encoded data removed]",
      "text/plain": [
       "<Figure size 432x288 with 1 Axes>"
      ]
     },
     "metadata": {
      "needs_background": "light"
     },
     "output_type": "display_data"
    }
   ],
   "source": [
    "fig,ax = plt.subplots()\n",
    "for i in range(6):\n",
    "    ax.scatter(df_mean0.query('label_sc=='+str(i))[0],df_mean0.query('label_sc=='+str(i))[1],s=3)"
   ]
  },
  {
   "cell_type": "code",
   "execution_count": 117,
   "id": "5252c8f9",
   "metadata": {},
   "outputs": [
    {
     "data": {
      "image/png": "[encoded data removed]",
      "text/plain": [
       "<Figure size 432x288 with 1 Axes>"
      ]
     },
     "metadata": {
      "needs_background": "light"
     },
     "output_type": "display_data"
    }
   ],
   "source": [
    "fig,ax = plt.subplots()\n",
    "for i in range(6):\n",
    "    ax.scatter(df_mean1.query('label_sc=='+str(i))[0],df_mean1.query('label_sc=='+str(i))[1],s=3)"
   ]
  },
  {
   "cell_type": "code",
   "execution_count": 119,
   "id": "b162e306",
   "metadata": {},
   "outputs": [],
   "source": [
    "from scipy.spatial.distance import pdist\n",
    "d0 = pdist(mean0)\n",
    "d1 = pdist(mean1)"
   ]
  },
  {
   "cell_type": "code",
   "execution_count": 120,
   "id": "906cbf67",
   "metadata": {},
   "outputs": [
    {
     "data": {
      "text/plain": [
       "array([[1.        , 0.52564011],\n",
       "       [0.52564011, 1.        ]])"
      ]
     },
     "execution_count": 120,
     "metadata": {},
     "output_type": "execute_result"
    }
   ],
   "source": [
    "np.corrcoef(d0,d1)"
   ]
  },
  {
   "cell_type": "code",
   "execution_count": 127,
   "id": "fdabc3ee",
   "metadata": {},
   "outputs": [
    {
     "name": "stdout",
     "output_type": "stream",
     "text": [
      "C:\\Users\\silvi\\Desktop\\Fisica\\TESI\\popvae\n"
     ]
    }
   ],
   "source": [
    "cd .."
   ]
  },
  {
   "cell_type": "code",
   "execution_count": 134,
   "id": "03bf8c20",
   "metadata": {},
   "outputs": [
    {
     "data": {
      "text/html": [
       "<div>\n",
       "<style scoped>\n",
       "    .dataframe tbody tr th:only-of-type {\n",
       "        vertical-align: middle;\n",
       "    }\n",
       "\n",
       "    .dataframe tbody tr th {\n",
       "        vertical-align: top;\n",
       "    }\n",
       "\n",
       "    .dataframe thead th {\n",
       "        text-align: right;\n",
       "    }\n",
       "</style>\n",
       "<table border=\"1\" class=\"dataframe\">\n",
       "  <thead>\n",
       "    <tr style=\"text-align: right;\">\n",
       "      <th></th>\n",
       "      <th>mean1</th>\n",
       "      <th>mean2</th>\n",
       "      <th>sd1</th>\n",
       "      <th>sd2</th>\n",
       "      <th>sampleID</th>\n",
       "    </tr>\n",
       "  </thead>\n",
       "  <tbody>\n",
       "    <tr>\n",
       "      <th>0</th>\n",
       "      <td>-0.390397</td>\n",
       "      <td>-0.044587</td>\n",
       "      <td>-1.812312</td>\n",
       "      <td>-1.476911</td>\n",
       "      <td>0</td>\n",
       "    </tr>\n",
       "    <tr>\n",
       "      <th>1</th>\n",
       "      <td>-0.703929</td>\n",
       "      <td>0.100669</td>\n",
       "      <td>-1.752976</td>\n",
       "      <td>-1.474722</td>\n",
       "      <td>1</td>\n",
       "    </tr>\n",
       "    <tr>\n",
       "      <th>2</th>\n",
       "      <td>-0.442957</td>\n",
       "      <td>-0.035155</td>\n",
       "      <td>-1.753932</td>\n",
       "      <td>-1.442127</td>\n",
       "      <td>2</td>\n",
       "    </tr>\n",
       "    <tr>\n",
       "      <th>3</th>\n",
       "      <td>-0.539569</td>\n",
       "      <td>-0.626833</td>\n",
       "      <td>-2.034461</td>\n",
       "      <td>-1.538498</td>\n",
       "      <td>3</td>\n",
       "    </tr>\n",
       "    <tr>\n",
       "      <th>4</th>\n",
       "      <td>-0.541446</td>\n",
       "      <td>0.063796</td>\n",
       "      <td>-1.895381</td>\n",
       "      <td>-1.536274</td>\n",
       "      <td>4</td>\n",
       "    </tr>\n",
       "    <tr>\n",
       "      <th>...</th>\n",
       "      <td>...</td>\n",
       "      <td>...</td>\n",
       "      <td>...</td>\n",
       "      <td>...</td>\n",
       "      <td>...</td>\n",
       "    </tr>\n",
       "    <tr>\n",
       "      <th>1023</th>\n",
       "      <td>-0.220031</td>\n",
       "      <td>-0.422744</td>\n",
       "      <td>-2.369991</td>\n",
       "      <td>-1.953642</td>\n",
       "      <td>1023</td>\n",
       "    </tr>\n",
       "    <tr>\n",
       "      <th>1024</th>\n",
       "      <td>0.184703</td>\n",
       "      <td>0.053948</td>\n",
       "      <td>-2.294230</td>\n",
       "      <td>-2.124947</td>\n",
       "      <td>1024</td>\n",
       "    </tr>\n",
       "    <tr>\n",
       "      <th>1025</th>\n",
       "      <td>0.635775</td>\n",
       "      <td>-0.255066</td>\n",
       "      <td>-2.202932</td>\n",
       "      <td>-1.913292</td>\n",
       "      <td>1025</td>\n",
       "    </tr>\n",
       "    <tr>\n",
       "      <th>1026</th>\n",
       "      <td>-1.188956</td>\n",
       "      <td>0.854511</td>\n",
       "      <td>-1.825522</td>\n",
       "      <td>-1.972281</td>\n",
       "      <td>1026</td>\n",
       "    </tr>\n",
       "    <tr>\n",
       "      <th>1027</th>\n",
       "      <td>-1.439047</td>\n",
       "      <td>0.621468</td>\n",
       "      <td>-2.160408</td>\n",
       "      <td>-1.940365</td>\n",
       "      <td>1027</td>\n",
       "    </tr>\n",
       "  </tbody>\n",
       "</table>\n",
       "<p>1028 rows × 5 columns</p>\n",
       "</div>"
      ],
      "text/plain": [
       "         mean1     mean2       sd1       sd2  sampleID\n",
       "0    -0.390397 -0.044587 -1.812312 -1.476911         0\n",
       "1    -0.703929  0.100669 -1.752976 -1.474722         1\n",
       "2    -0.442957 -0.035155 -1.753932 -1.442127         2\n",
       "3    -0.539569 -0.626833 -2.034461 -1.538498         3\n",
       "4    -0.541446  0.063796 -1.895381 -1.536274         4\n",
       "...        ...       ...       ...       ...       ...\n",
       "1023 -0.220031 -0.422744 -2.369991 -1.953642      1023\n",
       "1024  0.184703  0.053948 -2.294230 -2.124947      1024\n",
       "1025  0.635775 -0.255066 -2.202932 -1.913292      1025\n",
       "1026 -1.188956  0.854511 -1.825522 -1.972281      1026\n",
       "1027 -1.439047  0.621468 -2.160408 -1.940365      1027\n",
       "\n",
       "[1028 rows x 5 columns]"
      ]
     },
     "execution_count": 134,
     "metadata": {},
     "output_type": "execute_result"
    }
   ],
   "source": [
    "x0"
   ]
  },
  {
   "cell_type": "code",
   "execution_count": 129,
   "id": "2bf5a6ec",
   "metadata": {},
   "outputs": [],
   "source": [
    "x0 = pd.read_csv('out/euromds0/euromds_latent_coords.txt',sep='\\t')\n",
    "x1 = pd.read_csv('out/euromds1/euromds_latent_coords.txt',sep='\\t')"
   ]
  },
  {
   "cell_type": "code",
   "execution_count": 132,
   "id": "195036fe",
   "metadata": {},
   "outputs": [
    {
     "data": {
      "text/plain": [
       "<matplotlib.collections.PathCollection at 0x25e470ef148>"
      ]
     },
     "execution_count": 132,
     "metadata": {},
     "output_type": "execute_result"
    },
    {
     "data": {
      "image/png": "[encoded data removed]",
      "text/plain": [
       "<Figure size 432x288 with 1 Axes>"
      ]
     },
     "metadata": {
      "needs_background": "light"
     },
     "output_type": "display_data"
    }
   ],
   "source": [
    "fig,ax = plt.subplots()\n",
    "ax.scatter(mean1[:,0],mean1[:,1],s=3) "
   ]
  },
  {
   "cell_type": "code",
   "execution_count": 135,
   "id": "6233c8d2",
   "metadata": {
    "scrolled": false
   },
   "outputs": [
    {
     "data": {
      "text/plain": [
       "<matplotlib.collections.PathCollection at 0x25e47b4b848>"
      ]
     },
     "execution_count": 135,
     "metadata": {},
     "output_type": "execute_result"
    },
    {
     "data": {
      "image/png": "[encoded data removed]",
      "text/plain": [
       "<Figure size 432x288 with 1 Axes>"
      ]
     },
     "metadata": {
      "needs_background": "light"
     },
     "output_type": "display_data"
    }
   ],
   "source": [
    "fig,ax = plt.subplots()\n",
    "ax.scatter(x1['mean1'],x1['mean2'],s=3)"
   ]
  },
  {
   "cell_type": "code",
   "execution_count": 138,
   "id": "50824179",
   "metadata": {},
   "outputs": [],
   "source": [
    "dd0 = pdist(x0[['mean1','mean2']])\n",
    "dd1 = pdist(x1[['mean1','mean2']])"
   ]
  },
  {
   "cell_type": "code",
   "execution_count": 139,
   "id": "07483598",
   "metadata": {},
   "outputs": [
    {
     "data": {
      "text/plain": [
       "array([[1.        , 0.52564011],\n",
       "       [0.52564011, 1.        ]])"
      ]
     },
     "execution_count": 139,
     "metadata": {},
     "output_type": "execute_result"
    }
   ],
   "source": [
    "np.corrcoef(dd0,dd1)"
   ]
  },
  {
   "cell_type": "code",
   "execution_count": 114,
   "id": "40c1e15b",
   "metadata": {},
   "outputs": [
    {
     "data": {
      "text/plain": [
       "<matplotlib.collections.PathCollection at 0x25e46b8ed48>"
      ]
     },
     "execution_count": 114,
     "metadata": {},
     "output_type": "execute_result"
    },
    {
     "data": {
      "image/png": "[encoded data removed]",
      "text/plain": [
       "<Figure size 432x288 with 1 Axes>"
      ]
     },
     "metadata": {
      "needs_background": "light"
     },
     "output_type": "display_data"
    }
   ],
   "source": [
    "import matplotlib.pyplot as plt\n",
    "fig,ax = plt.subplots()\n",
    "ax.scatter(sample0[:,0],sample0[:,1],s=3)"
   ]
  },
  {
   "cell_type": "code",
   "execution_count": 115,
   "id": "de0250a4",
   "metadata": {},
   "outputs": [
    {
     "data": {
      "text/plain": [
       "<matplotlib.collections.PathCollection at 0x25e457d86c8>"
      ]
     },
     "execution_count": 115,
     "metadata": {},
     "output_type": "execute_result"
    },
    {
     "data": {
      "image/png": "[encoded data removed]",
      "text/plain": [
       "<Figure size 432x288 with 1 Axes>"
      ]
     },
     "metadata": {
      "needs_background": "light"
     },
     "output_type": "display_data"
    }
   ],
   "source": [
    "fig,ax = plt.subplots()\n",
    "ax.scatter(sample1[:,0],sample1[:,1],s=3)"
   ]
  },
  {
   "cell_type": "code",
   "execution_count": 146,
   "id": "08e21383",
   "metadata": {},
   "outputs": [
    {
     "name": "stdout",
     "output_type": "stream",
     "text": [
      "[array([[ 0.13553806, -0.11822788,  0.09326587, ..., -0.02479674,\n",
      "         0.06700275,  0.04512478],\n",
      "       [ 0.15304974, -0.00532436,  0.06078392, ..., -0.06402404,\n",
      "        -0.08085933,  0.0721185 ],\n",
      "       [-0.17406143,  0.0480649 , -0.10478202, ..., -0.09817057,\n",
      "        -0.13831773, -0.06725892],\n",
      "       ...,\n",
      "       [-0.16116431,  0.12595332, -0.11340844, ..., -0.13206251,\n",
      "        -0.01566707, -0.01523021],\n",
      "       [ 0.14890626, -0.15695591, -0.08600555, ...,  0.1850756 ,\n",
      "        -0.02041095,  0.11901102],\n",
      "       [-0.10877185, -0.02229978,  0.01581557, ...,  0.08250357,\n",
      "         0.04528934,  0.10195359]], dtype=float32), array([-0.00261792, -0.03791849, -0.02704925,  0.00411244, -0.02518598,\n",
      "       -0.01091766,  0.02430261,  0.00209317, -0.00065625, -0.00024458,\n",
      "       -0.02365097, -0.00997124, -0.00010476, -0.0094801 ,  0.06971857,\n",
      "        0.02836461,  0.00995148,  0.01086426,  0.00696175,  0.02911674,\n",
      "       -0.00213401, -0.00377081,  0.02808712,  0.0097047 ,  0.00972295,\n",
      "       -0.0455962 ,  0.02315072, -0.01173618, -0.03618084, -0.00032802,\n",
      "        0.01446797,  0.02238246, -0.02070928,  0.02703325, -0.0229404 ,\n",
      "        0.00177163,  0.04217591,  0.00105639, -0.01614271,  0.03164257,\n",
      "       -0.02044556, -0.05208864,  0.03483858,  0.01186902, -0.0084213 ,\n",
      "       -0.01063484,  0.01906629, -0.01976106,  0.00691826,  0.00016165,\n",
      "       -0.03158615,  0.03467204,  0.00419353,  0.03296814, -0.03045138,\n",
      "        0.04111734, -0.04139639, -0.04231569,  0.00892698,  0.0145334 ,\n",
      "       -0.01113785, -0.05033464,  0.02773312, -0.04027789, -0.00340547,\n",
      "       -0.01833954, -0.01568617, -0.02515304,  0.00933111,  0.03065362,\n",
      "        0.00930477,  0.00619212, -0.00982514,  0.03045279, -0.03162683,\n",
      "       -0.01065139,  0.01205147,  0.00511565, -0.01409635,  0.0101127 ,\n",
      "        0.01305815,  0.00435933,  0.0214993 , -0.04744177, -0.01665881,\n",
      "       -0.02657015,  0.04319529, -0.01289187, -0.07474615,  0.0161739 ,\n",
      "        0.01789172, -0.0058676 , -0.04545299,  0.01555027,  0.01966707,\n",
      "        0.02180815, -0.01397116,  0.0103868 ,  0.02245859, -0.00477482,\n",
      "        0.0316304 ,  0.01035193, -0.01804412, -0.00587587, -0.02613126,\n",
      "       -0.01239433,  0.03220841, -0.01996708,  0.0068852 , -0.01682776,\n",
      "        0.00239717,  0.03426229, -0.02038352,  0.04276277, -0.00559519,\n",
      "        0.03613272, -0.02812165, -0.03218177, -0.01261101, -0.01077025,\n",
      "       -0.01722009, -0.00851643, -0.02700032,  0.03967873, -0.02205353,\n",
      "       -0.02264126, -0.00780785,  0.02576735], dtype=float32), array([[ 0.07437793, -0.07638242, -0.11361542, ...,  0.01057117,\n",
      "         0.05405252, -0.04417308],\n",
      "       [ 0.10517907,  0.10324946,  0.13297054, ...,  0.04045572,\n",
      "         0.1065161 ,  0.0968814 ],\n",
      "       [ 0.04252049,  0.12259289,  0.03807096, ...,  0.10128608,\n",
      "        -0.02896166,  0.12067607],\n",
      "       ...,\n",
      "       [-0.07237403, -0.03527598,  0.11174614, ...,  0.00781807,\n",
      "        -0.03647255,  0.0190099 ],\n",
      "       [ 0.0161501 ,  0.03967622,  0.10975343, ...,  0.00856903,\n",
      "         0.04530919, -0.01373803],\n",
      "       [ 0.03325386,  0.05577604, -0.13171957, ...,  0.11177941,\n",
      "        -0.01276576, -0.06907648]], dtype=float32), array([-0.03432571, -0.02580475, -0.01758627,  0.00517967,  0.0411084 ,\n",
      "        0.00095512,  0.04663474, -0.00542698,  0.00254854, -0.00208888,\n",
      "        0.01882894,  0.04965727, -0.03227098,  0.01025329,  0.02748514,\n",
      "        0.02622568, -0.03748114, -0.00684982, -0.00940935, -0.01876887,\n",
      "       -0.00857225,  0.00484676,  0.01350098,  0.00053113, -0.02627655,\n",
      "       -0.0226603 , -0.01325678, -0.00980792,  0.00683794,  0.02328518,\n",
      "       -0.0207745 , -0.02033342, -0.03683069, -0.02672534,  0.02775799,\n",
      "        0.02581201,  0.01028027,  0.01896095,  0.03055998, -0.04418009,\n",
      "       -0.00768775, -0.0016495 ,  0.00297451,  0.00773621,  0.00255133,\n",
      "       -0.01195548,  0.01554622,  0.03037713, -0.02767207,  0.00926517,\n",
      "       -0.0108905 ,  0.00119759,  0.01885066,  0.00296844, -0.00947804,\n",
      "        0.00400621, -0.02981849, -0.02322584, -0.03956573,  0.00245869,\n",
      "        0.00424777, -0.00291671,  0.02329184,  0.01248648,  0.01431843,\n",
      "        0.00372871,  0.00357744,  0.01690506, -0.02624308,  0.01512213,\n",
      "       -0.00899049,  0.02665717,  0.02211911, -0.02711623,  0.01518614,\n",
      "        0.01154657, -0.00333009, -0.00621831, -0.03469335,  0.01188493,\n",
      "        0.04221497, -0.02214862,  0.03746655,  0.0316362 ,  0.00440105,\n",
      "       -0.02769001, -0.02373667, -0.06521349, -0.0263123 ,  0.01155568,\n",
      "        0.01747651, -0.01893881, -0.01230172, -0.04089797,  0.02695651,\n",
      "       -0.0040057 ,  0.00538489,  0.00854336,  0.01685354,  0.00035786,\n",
      "       -0.03962089,  0.01514944, -0.01604722, -0.02383464,  0.04512816,\n",
      "       -0.03219375, -0.0065608 ,  0.0236399 , -0.02175749,  0.02681368,\n",
      "       -0.00902703,  0.00582136, -0.005588  ,  0.04013077, -0.00547735,\n",
      "        0.00218561, -0.00917529, -0.03457375,  0.01148271, -0.01599975,\n",
      "       -0.02198989,  0.02029966, -0.00763322,  0.01051717, -0.05170071,\n",
      "       -0.01715628, -0.02941819,  0.02843626], dtype=float32), array([[ 0.01094757,  0.06922739,  0.1115173 , ...,  0.1273463 ,\n",
      "        -0.05757926,  0.12148111],\n",
      "       [ 0.05698168,  0.19772415,  0.04422891, ...,  0.15326492,\n",
      "         0.09172814, -0.02621899],\n",
      "       [ 0.03360211, -0.0629453 ,  0.14050306, ..., -0.12148578,\n",
      "         0.03542344,  0.08380345],\n",
      "       ...,\n",
      "       [ 0.00244023, -0.03493438,  0.15415157, ..., -0.06170118,\n",
      "        -0.05921625,  0.08943041],\n",
      "       [ 0.05357879,  0.00270202,  0.05003539, ..., -0.00362141,\n",
      "         0.1147894 , -0.12615108],\n",
      "       [-0.03848439, -0.01747844,  0.103645  , ..., -0.02671177,\n",
      "         0.00176708,  0.01121772]], dtype=float32), array([-2.23866440e-02, -2.00652629e-02, -2.19494291e-02,  9.80928633e-03,\n",
      "        2.27652639e-02,  3.34594436e-02,  7.88900163e-03,  2.47396119e-02,\n",
      "        2.16215774e-02,  8.11353885e-03, -1.76281445e-02, -4.23862599e-03,\n",
      "       -1.02169383e-02, -1.85155794e-02,  3.90408412e-02,  2.37106960e-02,\n",
      "       -1.43943829e-02,  2.84500737e-02, -1.64987156e-04, -4.00924534e-02,\n",
      "       -3.47183719e-02, -5.17351143e-02, -1.77229736e-02, -8.42340942e-03,\n",
      "        1.40481780e-03, -1.65520050e-02,  2.34142737e-03, -2.71533728e-02,\n",
      "        5.70930121e-03,  2.72447579e-02, -6.67347340e-03,  8.47636815e-03,\n",
      "       -3.19240764e-02, -4.53055091e-02, -2.73280637e-03,  1.06824599e-02,\n",
      "       -2.32611913e-02, -6.28274027e-03, -3.04453801e-02,  9.47730802e-03,\n",
      "       -2.21875906e-02, -3.84698622e-02,  3.69194313e-04,  1.52945807e-02,\n",
      "       -7.55937696e-02,  8.32682941e-03,  2.15573777e-02, -3.34624872e-02,\n",
      "        1.63827352e-02,  1.40375653e-02,  4.98875743e-03, -2.58725863e-02,\n",
      "        2.67592240e-02, -6.86214305e-03,  1.69904344e-02, -1.56593844e-02,\n",
      "       -9.93548427e-03,  2.21033785e-02, -1.17076952e-02, -4.65414226e-02,\n",
      "       -2.49279607e-02, -5.88273833e-05, -4.38557006e-03,  7.33852014e-03,\n",
      "        2.88010435e-03,  1.55805908e-02, -2.53074393e-02,  2.72756908e-02,\n",
      "       -4.99799252e-02,  3.80955376e-02,  2.14254111e-02, -3.29787172e-02,\n",
      "        2.03943299e-03, -2.35243440e-02, -2.99113933e-02, -9.53257829e-03,\n",
      "        1.69952505e-03,  5.45391953e-03, -4.15791292e-03, -8.73471517e-03,\n",
      "        1.05686802e-02,  5.16644819e-03,  3.40169594e-02, -4.13470976e-02,\n",
      "        5.89431077e-03,  1.79468524e-02,  1.60493311e-02,  2.37980280e-02,\n",
      "       -2.50739139e-02, -6.59584533e-03,  2.62040328e-02, -1.39057590e-02,\n",
      "        3.33363787e-05, -4.44142856e-02,  1.26157394e-02, -3.53698656e-02,\n",
      "       -2.62215454e-02, -1.80606160e-03,  3.62598598e-02, -3.19680236e-02,\n",
      "       -6.27666488e-02,  8.08523595e-03, -9.39128920e-03,  1.21963015e-02,\n",
      "        1.16626630e-02, -7.13026011e-03,  5.34237362e-03,  1.44583536e-02,\n",
      "       -2.65955962e-02,  1.97436810e-02, -6.82933480e-02, -6.96058571e-03,\n",
      "        1.69715937e-02,  4.06452604e-02, -9.31902230e-03,  2.97423992e-02,\n",
      "        3.87436594e-03, -1.62963457e-02,  2.14241445e-02, -2.92262398e-02,\n",
      "        6.53397758e-03,  2.77460795e-02, -3.39023881e-02, -7.61878584e-03,\n",
      "        1.65742356e-02,  9.31055192e-03, -1.50451967e-02, -1.30756283e-02],\n",
      "      dtype=float32), array([[-0.00773218,  0.14385773,  0.17202182, ..., -0.1523036 ,\n",
      "        -0.0463128 ,  0.06260191],\n",
      "       [-0.14866836, -0.0523121 ,  0.14332257, ..., -0.1053073 ,\n",
      "        -0.05743098, -0.03086139],\n",
      "       [ 0.11518969, -0.09625492, -0.01894728, ..., -0.01952569,\n",
      "         0.01823213, -0.13707733],\n",
      "       ...,\n",
      "       [-0.12481247,  0.1380953 ,  0.04439565, ..., -0.00388248,\n",
      "        -0.09869561,  0.03067385],\n",
      "       [ 0.04666137, -0.04416916, -0.02822742, ..., -0.18207079,\n",
      "         0.03158658, -0.07647378],\n",
      "       [-0.03900571, -0.07356375, -0.04943264, ...,  0.07438295,\n",
      "         0.01903044,  0.15892696]], dtype=float32), array([-0.0284559 ,  0.02329736,  0.00300422, -0.00628691, -0.01148743,\n",
      "       -0.00050796, -0.01406468, -0.01457429, -0.00385808,  0.02182577,\n",
      "       -0.00758621,  0.01211139,  0.02573593,  0.01955011, -0.0069878 ,\n",
      "        0.02397167,  0.01150498, -0.01130588,  0.03282636, -0.02427643,\n",
      "        0.02433337, -0.04540293, -0.0242227 ,  0.02237797,  0.02568028,\n",
      "       -0.02555394, -0.06284637, -0.02270555, -0.04211348,  0.00178851,\n",
      "        0.00556135,  0.02047057,  0.03747568, -0.00453925,  0.02507211,\n",
      "       -0.00213084, -0.01627738,  0.02136498,  0.03412722, -0.00086256,\n",
      "        0.0186694 ,  0.03467205, -0.04567375, -0.02897001, -0.04476451,\n",
      "        0.01384794,  0.01788512, -0.02715547,  0.02684936,  0.00496086,\n",
      "        0.00274867, -0.00270365,  0.02631645,  0.01363707,  0.02574263,\n",
      "        0.01471375, -0.01180118, -0.0096336 , -0.01402509, -0.01270389,\n",
      "        0.00542775, -0.02446279,  0.0193534 ,  0.03376457, -0.0134264 ,\n",
      "       -0.00174631, -0.04522603, -0.01515275,  0.00290624,  0.02727524,\n",
      "        0.01907454, -0.02889035,  0.0198467 , -0.04535957, -0.00680451,\n",
      "       -0.01040889,  0.04059754, -0.03126841, -0.00416049,  0.02052775,\n",
      "       -0.0167751 , -0.00618347,  0.00775345,  0.02827226, -0.04466848,\n",
      "       -0.02630705,  0.02335047, -0.03706485, -0.03362539,  0.0425113 ,\n",
      "       -0.04048562, -0.03574707, -0.00735849, -0.01246385, -0.04012286,\n",
      "       -0.00243055,  0.02898246, -0.02522069,  0.01048043,  0.00138034,\n",
      "        0.00261899, -0.00343058, -0.01602012,  0.00933618,  0.02147689,\n",
      "       -0.00074885,  0.02859723,  0.01088568, -0.02476937, -0.00858152,\n",
      "        0.01705392,  0.01824066, -0.01508726, -0.03077753,  0.01372372,\n",
      "        0.01710181, -0.02557734, -0.03188894,  0.0125254 ,  0.02884079,\n",
      "       -0.01060802, -0.02323254, -0.04897185, -0.00666352,  0.00409354,\n",
      "        0.01778917, -0.03935667,  0.00629403], dtype=float32), array([[ 0.06446466, -0.0716251 ,  0.0427766 , ...,  0.12845254,\n",
      "        -0.14435102, -0.14956366],\n",
      "       [-0.06428657,  0.08281338,  0.11475053, ...,  0.11347914,\n",
      "         0.06371107, -0.07311949],\n",
      "       [-0.02714068, -0.12495601,  0.08872705, ..., -0.00795962,\n",
      "         0.04345097,  0.03729545],\n",
      "       ...,\n",
      "       [-0.07571785,  0.09828363,  0.11230036, ...,  0.16740797,\n",
      "        -0.15657532, -0.06956508],\n",
      "       [-0.03539937,  0.02107631,  0.01565593, ...,  0.12833768,\n",
      "        -0.00710218,  0.0832009 ],\n",
      "       [-0.04583672,  0.12898625, -0.02657018, ...,  0.0443652 ,\n",
      "        -0.10270678,  0.00369721]], dtype=float32), array([ 0.05532399,  0.01439266, -0.0325041 ,  0.00943888, -0.04135631,\n",
      "       -0.01142677, -0.02061046,  0.01733642,  0.00463773,  0.03225084,\n",
      "       -0.00590958,  0.00015756,  0.01951512,  0.00161824,  0.03112259,\n",
      "       -0.02377919, -0.04079396, -0.02023643, -0.00078883, -0.01064513,\n",
      "       -0.04612649, -0.08465963, -0.05343946,  0.00016659, -0.0161134 ,\n",
      "       -0.02681799,  0.01262866, -0.05334915, -0.03278056, -0.04520452,\n",
      "       -0.03969925, -0.03401859,  0.03264164,  0.01330768, -0.03515803,\n",
      "       -0.0130682 , -0.00265378, -0.07574843,  0.02165802,  0.01878219,\n",
      "       -0.02313332,  0.01157599,  0.03652367, -0.06120466, -0.01836281,\n",
      "        0.00199194,  0.01290445, -0.01617089, -0.01598699, -0.02561703,\n",
      "        0.0344448 ,  0.01345113, -0.01541292, -0.01609386,  0.02476305,\n",
      "       -0.01930518, -0.0013821 ,  0.00929214, -0.01485341, -0.00519796,\n",
      "        0.01333788,  0.01221594, -0.00125653, -0.02181904, -0.0169465 ,\n",
      "       -0.01525303,  0.02681938, -0.0159732 , -0.01733793, -0.01757485,\n",
      "       -0.02363717, -0.02628547,  0.02285819,  0.00565187, -0.01372483,\n",
      "       -0.02014546,  0.01016172, -0.00192343,  0.02056633, -0.02197209,\n",
      "        0.02509198,  0.032345  , -0.010784  , -0.06674194,  0.00188595,\n",
      "        0.03779921, -0.01724499, -0.0133352 , -0.02352169, -0.00617502,\n",
      "        0.01618429, -0.05133986, -0.03341769,  0.02132693,  0.01001613,\n",
      "        0.01172823, -0.00103159, -0.04272954, -0.00371321, -0.00720416,\n",
      "        0.02179753,  0.00954996,  0.00363375,  0.00381941, -0.02258694,\n",
      "       -0.03175423, -0.05441163, -0.0732323 ,  0.00263771, -0.01767115,\n",
      "       -0.0030521 ,  0.03406085, -0.01040999, -0.06848354, -0.01943182,\n",
      "       -0.00969375, -0.00920514, -0.00955432, -0.03299345, -0.00285727,\n",
      "       -0.01059398, -0.01401279, -0.00149567,  0.0058616 , -0.00295064,\n",
      "       -0.01467964,  0.0165716 ,  0.02126721], dtype=float32), array([[-0.14974731, -0.08017366, -0.15018511, ..., -0.08603474,\n",
      "         0.0979614 , -0.06267695],\n",
      "       [ 0.06522981,  0.04805886,  0.08114186, ..., -0.11515833,\n",
      "         0.06246981, -0.01400021],\n",
      "       [ 0.06974424, -0.08901559, -0.04500617, ..., -0.13300657,\n",
      "         0.02049189, -0.02862606],\n",
      "       ...,\n",
      "       [ 0.13151768,  0.10368366,  0.04938054, ...,  0.04196778,\n",
      "         0.14401813,  0.10625795],\n",
      "       [ 0.10588392, -0.14663288,  0.06427559, ...,  0.08773219,\n",
      "        -0.07846349,  0.03891125],\n",
      "       [-0.06712566, -0.10814884, -0.14147227, ..., -0.05114396,\n",
      "        -0.09870381, -0.10506739]], dtype=float32), array([-0.04565613, -0.06691508,  0.00735281,  0.01601894,  0.01248853,\n",
      "       -0.02556313, -0.02372614,  0.03994319,  0.0328652 , -0.0362155 ,\n",
      "        0.01817088,  0.00317629,  0.01172184, -0.00226063,  0.00178502,\n",
      "        0.01471145, -0.00324757,  0.0110061 , -0.0137064 ,  0.01939584,\n",
      "       -0.03161298,  0.0536903 , -0.03021926,  0.0052964 ,  0.01990315,\n",
      "        0.01766968,  0.0348266 , -0.04953561, -0.09512508,  0.01258727,\n",
      "       -0.0769652 , -0.00539951, -0.01518481, -0.03154936, -0.02139266,\n",
      "       -0.03118452, -0.03029153,  0.02790494, -0.00513503, -0.02962101,\n",
      "       -0.02383579,  0.01184002, -0.0076417 , -0.02075507, -0.02125883,\n",
      "        0.00872251, -0.03446515,  0.00633563, -0.04934415, -0.03504209,\n",
      "       -0.00209321, -0.0457953 , -0.00420238, -0.01683282, -0.02612964,\n",
      "       -0.0011219 ,  0.01369481, -0.01799568, -0.00441881,  0.00043221,\n",
      "        0.04666268, -0.04871828,  0.03161076,  0.02138067, -0.00437093,\n",
      "        0.00993881, -0.00962331, -0.01149604,  0.00919249,  0.02871419,\n",
      "       -0.03755622, -0.02734961,  0.01972545,  0.00564898, -0.0166589 ,\n",
      "       -0.00092243, -0.04426615, -0.02962006, -0.00435873, -0.01919956,\n",
      "       -0.00673841,  0.05423428, -0.01369103, -0.04376131, -0.02673049,\n",
      "       -0.02498185,  0.01044153, -0.1165176 , -0.02197674,  0.01067275,\n",
      "       -0.01951787, -0.01416794,  0.00982969, -0.02381116,  0.01580805,\n",
      "       -0.02296131, -0.03399452, -0.07063158, -0.00810634,  0.00562041,\n",
      "       -0.00976012, -0.01976342, -0.00758622,  0.0404126 ,  0.00882163,\n",
      "        0.02551701,  0.03069321, -0.02270482,  0.00229008, -0.01716571,\n",
      "       -0.00945771,  0.03365153, -0.00374479,  0.00962306,  0.01389634,\n",
      "       -0.00248103,  0.01461125, -0.00777157, -0.00961111,  0.00517019,\n",
      "       -0.00764782,  0.0218626 , -0.00136763, -0.01954017,  0.00082464,\n",
      "       -0.01629955,  0.04695858, -0.01269177], dtype=float32), array([[ 8.12720507e-02, -4.55736592e-02],\n",
      "       [ 1.07055614e-02,  1.62479039e-02],\n",
      "       [-6.63462132e-02, -2.43781451e-02],\n",
      "       [ 7.32635930e-02, -8.43329653e-02],\n",
      "       [-1.84910968e-02,  2.80205701e-02],\n",
      "       [ 1.21759765e-01,  1.81759417e-01],\n",
      "       [ 5.83775416e-02, -5.87367155e-02],\n",
      "       [-8.62274021e-02,  4.13424820e-02],\n",
      "       [ 1.19185008e-01,  3.39390412e-02],\n",
      "       [ 3.00894119e-03, -5.86164854e-02],\n",
      "       [ 8.67955163e-02, -7.83529952e-02],\n",
      "       [ 3.19459029e-02,  1.59732923e-01],\n",
      "       [-1.89520657e-01,  1.81401432e-01],\n",
      "       [ 3.81207317e-02, -1.00688301e-01],\n",
      "       [ 7.50165433e-02,  1.60173416e-01],\n",
      "       [-1.62801445e-01,  1.34478301e-01],\n",
      "       [ 1.17728030e-02, -2.68535390e-02],\n",
      "       [ 1.65226802e-01, -5.62296137e-02],\n",
      "       [ 1.60316050e-01,  1.74589097e-01],\n",
      "       [-1.00965917e-01,  2.19197236e-02],\n",
      "       [-1.01218887e-01, -2.48634163e-02],\n",
      "       [ 1.10182380e-02,  5.66109156e-05],\n",
      "       [ 1.64298922e-01, -1.51335508e-01],\n",
      "       [ 3.14955339e-02,  5.44949025e-02],\n",
      "       [ 3.20920423e-02, -1.38753066e-02],\n",
      "       [-2.94620302e-02,  2.23729908e-02],\n",
      "       [ 9.67528392e-03,  9.68438014e-03],\n",
      "       [-4.38870564e-02,  4.18889523e-02],\n",
      "       [-4.86593992e-02,  3.08007188e-02],\n",
      "       [ 1.24427564e-01,  1.86013833e-01],\n",
      "       [-5.41424230e-02,  7.94594288e-02],\n",
      "       [-6.89954981e-02,  1.30475476e-01],\n",
      "       [ 5.94012765e-03, -3.41403820e-02],\n",
      "       [-1.06102601e-01, -4.52441908e-02],\n",
      "       [ 2.09213775e-02, -1.62252963e-01],\n",
      "       [-6.50341287e-02,  5.54864965e-02],\n",
      "       [-3.15954648e-02, -1.92445159e-01],\n",
      "       [-1.39200941e-01,  3.82311270e-02],\n",
      "       [-1.00809351e-01, -1.20818086e-01],\n",
      "       [-3.21471579e-02, -1.46890938e-01],\n",
      "       [ 1.36038989e-01,  4.76613194e-02],\n",
      "       [-9.48285088e-02, -9.81011838e-02],\n",
      "       [ 3.02852294e-03, -1.05298482e-01],\n",
      "       [-2.29444113e-02, -1.42367244e-01],\n",
      "       [-8.82397741e-02, -1.40372396e-01],\n",
      "       [-4.08513285e-02,  1.37931615e-01],\n",
      "       [ 3.60513069e-02, -1.10525742e-01],\n",
      "       [ 4.13570963e-02,  1.38148457e-01],\n",
      "       [-5.99199608e-02,  1.74719039e-02],\n",
      "       [ 9.48062539e-02, -3.28343548e-02],\n",
      "       [ 8.40371847e-02,  8.01165551e-02],\n",
      "       [-1.75167456e-01,  1.42123573e-03],\n",
      "       [-6.90042526e-02,  1.03788890e-01],\n",
      "       [ 1.54909477e-01, -1.38088197e-01],\n",
      "       [-1.11427128e-01, -1.59608543e-01],\n",
      "       [-6.85238317e-02, -3.45343165e-02],\n",
      "       [-1.42722158e-02,  1.43193051e-01],\n",
      "       [-1.37251437e-01,  3.31561640e-02],\n",
      "       [-1.07360438e-01, -1.45579576e-01],\n",
      "       [-5.07057942e-02,  4.72260006e-02],\n",
      "       [-7.16459099e-03,  1.41301537e-02],\n",
      "       [ 1.13477789e-01,  1.00821726e-01],\n",
      "       [ 7.48718232e-02,  1.05275605e-02],\n",
      "       [-1.21559494e-03,  1.01815365e-01],\n",
      "       [ 1.56678766e-01,  1.31091192e-01],\n",
      "       [ 5.25143743e-02,  1.26266986e-01],\n",
      "       [-1.73397779e-01, -1.36863574e-01],\n",
      "       [-1.54143989e-01, -9.30244997e-02],\n",
      "       [-3.17138433e-02,  3.16928923e-02],\n",
      "       [ 1.11338824e-01, -5.63043430e-02],\n",
      "       [-9.83683988e-02, -1.89521182e-02],\n",
      "       [ 1.41717583e-01, -6.78493753e-02],\n",
      "       [ 2.31959205e-02,  7.99998492e-02],\n",
      "       [-8.30698311e-02,  2.79404297e-02],\n",
      "       [-4.30446379e-02,  8.63559395e-02],\n",
      "       [ 8.87476578e-02,  1.39026970e-01],\n",
      "       [ 3.52319069e-02,  8.50276276e-03],\n",
      "       [-9.34539065e-02,  4.03258577e-02],\n",
      "       [-1.50614511e-02,  1.67685688e-01],\n",
      "       [-9.06473100e-02,  2.37499867e-02],\n",
      "       [-1.65019050e-01, -5.14798947e-02],\n",
      "       [ 2.56123785e-02, -2.42522247e-02],\n",
      "       [-8.73613507e-02, -2.80454215e-02],\n",
      "       [-2.45966036e-02, -1.48478663e-02],\n",
      "       [ 6.24900572e-02, -8.87979288e-03],\n",
      "       [ 1.57440513e-01, -1.60893053e-01],\n",
      "       [ 7.45112216e-03,  9.73602831e-02],\n",
      "       [-4.63891542e-03,  6.52134344e-02],\n",
      "       [ 1.58114716e-01, -1.55036196e-01],\n",
      "       [-3.74083482e-02,  7.25316256e-02],\n",
      "       [ 1.54157028e-01,  1.61934033e-01],\n",
      "       [-1.01455182e-01,  5.19302338e-02],\n",
      "       [-3.62013765e-02,  7.85416663e-02],\n",
      "       [ 5.11299856e-02, -9.59518626e-02],\n",
      "       [-1.15764283e-01,  1.35737151e-01],\n",
      "       [ 1.35021240e-01,  1.55822905e-02],\n",
      "       [ 1.30599439e-01, -1.07773326e-01],\n",
      "       [ 2.56505609e-03, -1.47807132e-02],\n",
      "       [ 1.70547664e-01,  1.32142365e-01],\n",
      "       [-1.09771952e-01,  1.53037757e-01],\n",
      "       [ 1.14809461e-01,  1.41235620e-01],\n",
      "       [-9.20904279e-02,  5.83591051e-02],\n",
      "       [ 7.28114247e-02,  1.67089969e-01],\n",
      "       [-5.47478013e-02, -1.65868513e-02],\n",
      "       [-3.82723212e-02, -3.74839306e-02],\n",
      "       [ 1.31354649e-02,  2.00545322e-02],\n",
      "       [-1.67530291e-02, -3.25284600e-02],\n",
      "       [ 4.95422930e-02,  1.23178840e-01],\n",
      "       [-5.86278625e-02, -1.70061924e-03],\n",
      "       [-5.25893569e-02,  2.32156646e-02],\n",
      "       [ 1.56853572e-01, -1.42604798e-01],\n",
      "       [-2.57874802e-02,  3.99100706e-02],\n",
      "       [ 1.34467408e-01,  1.04378268e-01],\n",
      "       [ 1.03660382e-01,  1.23279676e-01],\n",
      "       [ 1.45098522e-01,  6.31118789e-02],\n",
      "       [ 6.00678660e-02,  4.24348637e-02],\n",
      "       [ 4.40507755e-02, -6.88375533e-02],\n",
      "       [ 3.16023268e-02, -6.96531385e-02],\n",
      "       [-1.00834459e-01, -9.41043049e-02],\n",
      "       [-2.28361133e-02,  3.52454111e-02],\n",
      "       [ 2.00678129e-02,  2.17649601e-02],\n",
      "       [ 9.82629880e-02,  2.40972787e-02],\n",
      "       [-1.86323389e-01, -1.39849573e-01],\n",
      "       [-1.08753726e-01, -6.57462180e-02],\n",
      "       [-1.28039822e-01, -9.37519521e-02],\n",
      "       [-7.17054456e-02, -1.48427695e-01],\n",
      "       [ 9.61909294e-02, -1.36343855e-02],\n",
      "       [ 1.03349410e-01, -8.45214352e-02]], dtype=float32), array([0.01430251, 0.00739262], dtype=float32), array([[ 1.33170903e-01,  2.30148032e-01],\n",
      "       [ 4.88285683e-02,  1.77710295e-01],\n",
      "       [ 3.45496126e-02, -1.14080459e-01],\n",
      "       [-1.44358814e-01, -1.29261434e-01],\n",
      "       [ 1.05015613e-01, -1.15748018e-01],\n",
      "       [ 1.90139458e-01,  1.34104475e-01],\n",
      "       [-8.44247118e-02,  1.38045818e-01],\n",
      "       [-1.50200516e-01, -1.65779948e-01],\n",
      "       [-1.72897205e-01, -1.63963929e-01],\n",
      "       [ 8.50730240e-02,  1.52683124e-01],\n",
      "       [ 5.38683217e-03, -1.84018135e-01],\n",
      "       [-1.71286210e-01,  1.69726426e-03],\n",
      "       [-5.03067859e-02, -1.93597570e-01],\n",
      "       [-7.91919902e-02, -3.98489535e-02],\n",
      "       [-8.70032758e-02, -7.14329490e-03],\n",
      "       [ 3.40134799e-02, -1.73727915e-01],\n",
      "       [-1.02370739e-01,  5.54548278e-02],\n",
      "       [-8.67755041e-02, -7.15434775e-02],\n",
      "       [ 1.70433596e-02,  1.04557954e-01],\n",
      "       [ 3.00458893e-02, -1.50552005e-01],\n",
      "       [ 5.36070839e-02,  1.35767356e-01],\n",
      "       [-1.13170527e-01, -4.17126305e-02],\n",
      "       [ 1.22878022e-01, -3.18745449e-02],\n",
      "       [-1.34592324e-01,  8.58212784e-02],\n",
      "       [ 5.14317378e-02, -1.70882404e-01],\n",
      "       [ 1.18408993e-01, -1.51656553e-01],\n",
      "       [ 1.90221276e-02, -1.31927192e-01],\n",
      "       [ 9.04670805e-02,  1.14515536e-01],\n",
      "       [ 2.13900223e-01,  2.01039985e-01],\n",
      "       [-5.65392897e-02, -2.02484086e-01],\n",
      "       [ 1.76738426e-01,  1.82918802e-01],\n",
      "       [ 2.65608542e-02,  7.95233548e-02],\n",
      "       [-5.52763641e-02,  4.63365689e-02],\n",
      "       [ 2.25309342e-01, -1.85371831e-03],\n",
      "       [ 5.13235070e-02,  6.48821741e-02],\n",
      "       [ 2.96227131e-02,  1.21994212e-01],\n",
      "       [ 1.60176992e-01,  1.79193065e-01],\n",
      "       [-1.46374777e-01, -1.17611378e-01],\n",
      "       [-8.41840263e-03, -8.27767774e-02],\n",
      "       [ 1.19672619e-01,  1.74748793e-01],\n",
      "       [-2.05074064e-02,  1.86818451e-01],\n",
      "       [-1.61176678e-02, -1.88477844e-01],\n",
      "       [ 1.31937027e-01, -1.60003513e-01],\n",
      "       [ 1.62399247e-01,  7.82338344e-03],\n",
      "       [ 4.10462320e-02,  9.15281102e-02],\n",
      "       [-1.26490131e-01, -2.43687779e-02],\n",
      "       [ 1.37652099e-01,  1.81826547e-01],\n",
      "       [ 4.60536480e-02, -8.31467211e-02],\n",
      "       [ 1.97429076e-01,  7.39041436e-03],\n",
      "       [-1.34165669e-02,  1.45284593e-01],\n",
      "       [ 5.17352037e-02, -5.11539914e-02],\n",
      "       [ 1.04607604e-01,  5.48665896e-02],\n",
      "       [-8.32731724e-02,  8.14295039e-02],\n",
      "       [-3.13588344e-02, -1.59633812e-02],\n",
      "       [ 2.11806417e-01,  3.58000211e-02],\n",
      "       [ 4.12680171e-02, -1.09299548e-01],\n",
      "       [-1.93174779e-01, -3.14323120e-02],\n",
      "       [ 7.42220357e-02, -4.65420708e-02],\n",
      "       [-1.64990321e-01,  1.43618044e-02],\n",
      "       [ 1.33272618e-01, -7.31247440e-02],\n",
      "       [-7.68482313e-02, -3.21376435e-02],\n",
      "       [ 1.40863627e-01,  1.80896148e-01],\n",
      "       [ 9.73779336e-03, -1.97719559e-01],\n",
      "       [-4.69264388e-02, -1.81997269e-01],\n",
      "       [-1.04406908e-01,  6.33848459e-02],\n",
      "       [ 4.93953004e-02, -1.65201038e-01],\n",
      "       [-2.33106371e-02, -4.40663584e-02],\n",
      "       [-1.64438874e-01,  1.34343520e-01],\n",
      "       [-2.02151686e-02, -1.10257166e-02],\n",
      "       [-8.34437609e-02, -1.42461568e-01],\n",
      "       [ 1.59016639e-01,  8.64915699e-02],\n",
      "       [ 2.68633552e-02,  3.66375111e-02],\n",
      "       [-5.54791279e-02, -8.21429417e-02],\n",
      "       [ 1.40238822e-01, -9.62281153e-02],\n",
      "       [ 1.44761011e-01,  2.97512393e-02],\n",
      "       [ 1.07606508e-01, -2.48408783e-02],\n",
      "       [-6.54140604e-06,  1.19622782e-01],\n",
      "       [ 4.93211076e-02,  1.03452757e-01],\n",
      "       [ 2.32659131e-02,  1.42442470e-03],\n",
      "       [-6.27987906e-02,  7.32046440e-02],\n",
      "       [-3.62276956e-02, -7.23077580e-02],\n",
      "       [-1.58749789e-01, -8.41728076e-02],\n",
      "       [-1.65122990e-02, -1.35639897e-02],\n",
      "       [ 1.32935598e-01, -1.10215731e-02],\n",
      "       [-6.84534833e-02,  1.75953925e-01],\n",
      "       [ 1.25835061e-01,  1.17669091e-01],\n",
      "       [ 1.63529366e-02, -9.03759152e-02],\n",
      "       [ 1.69552699e-01,  1.85455754e-01],\n",
      "       [-8.87977183e-02,  1.42932773e-01],\n",
      "       [-1.05312899e-01,  3.75500624e-03],\n",
      "       [ 1.37797669e-01,  2.25449968e-02],\n",
      "       [ 5.48832268e-02,  2.05125194e-02],\n",
      "       [-8.39337930e-02,  1.32073676e-02],\n",
      "       [ 1.31350100e-01,  1.03654084e-03],\n",
      "       [-2.01384500e-01, -2.04799213e-02],\n",
      "       [-1.14664823e-01,  1.20769486e-01],\n",
      "       [ 1.67833313e-01,  1.24804415e-01],\n",
      "       [ 1.51440516e-01,  1.11946508e-01],\n",
      "       [ 4.33426052e-02,  1.98415276e-02],\n",
      "       [ 5.72084300e-02, -9.39161554e-02],\n",
      "       [-6.92397803e-02,  1.23105265e-01],\n",
      "       [-5.66014610e-02,  1.51789382e-01],\n",
      "       [ 2.94348616e-02,  5.67707233e-02],\n",
      "       [-9.72088799e-02, -1.44421503e-01],\n",
      "       [-5.27879372e-02, -3.82363312e-02],\n",
      "       [-7.15271011e-02, -9.02290083e-03],\n",
      "       [ 3.19259800e-02, -1.49169371e-01],\n",
      "       [ 1.26327306e-01,  7.18745142e-02],\n",
      "       [ 9.51921791e-02, -9.32175517e-02],\n",
      "       [ 1.27434572e-02,  7.32355937e-03],\n",
      "       [-6.80588484e-02, -5.72010651e-02],\n",
      "       [-8.43815953e-02, -1.54057637e-01],\n",
      "       [-3.40304673e-02,  3.96872796e-02],\n",
      "       [-1.60640866e-01, -1.92406047e-02],\n",
      "       [-1.09290749e-01, -8.25337619e-02],\n",
      "       [ 6.48386031e-02, -3.88682522e-02],\n",
      "       [-2.18278915e-02, -1.26587838e-01],\n",
      "       [ 1.30416334e-01, -1.09857783e-01],\n",
      "       [-1.01184092e-01,  8.75565112e-02],\n",
      "       [ 2.14839205e-02,  4.60901204e-03],\n",
      "       [-6.57116696e-02,  1.12896927e-01],\n",
      "       [-1.12685166e-01, -9.16631520e-02],\n",
      "       [-6.43022582e-02, -2.17852890e-02],\n",
      "       [-8.09680670e-02,  1.56634808e-01],\n",
      "       [-1.23015963e-01, -6.39312267e-02],\n",
      "       [-5.84314875e-02,  1.39784545e-01],\n",
      "       [-1.38243079e-01, -2.27642328e-01],\n",
      "       [ 5.17165177e-02, -1.13263084e-02]], dtype=float32), array([-0.16302155, -0.05898781], dtype=float32), array([[ 0.17743805,  0.04652071,  0.17350423, -0.0032898 , -0.15336803,\n",
      "        -0.14454384, -0.01232908,  0.15945986, -0.04274901,  0.00831196,\n",
      "         0.06128919,  0.10202038, -0.02509576,  0.19303961,  0.12465873,\n",
      "        -0.13177128,  0.22584715,  0.09452161,  0.00545393, -0.03494128,\n",
      "         0.04764547,  0.13849518, -0.00237591, -0.14200436,  0.2094342 ,\n",
      "        -0.2113245 ,  0.18470275, -0.02284008, -0.02178335, -0.02448523,\n",
      "        -0.06628768,  0.11184285,  0.04177841, -0.11786672, -0.19647612,\n",
      "         0.0153638 ,  0.03896983, -0.06828658,  0.00057093,  0.16147532,\n",
      "         0.00931964,  0.12053927,  0.19938752, -0.19940713, -0.19586799,\n",
      "        -0.00264058,  0.08621472, -0.18335104,  0.15671319, -0.17522901,\n",
      "        -0.01771551, -0.02934238, -0.1489615 ,  0.03097517,  0.11826569,\n",
      "        -0.08060303,  0.00724011,  0.20623216, -0.07083098,  0.09172744,\n",
      "        -0.11998672, -0.16285445, -0.13901395, -0.06031132, -0.01745464,\n",
      "        -0.06208922,  0.1468711 , -0.2198499 ,  0.10589702, -0.21296339,\n",
      "        -0.01810488, -0.05152576, -0.13870387, -0.05602432,  0.06967051,\n",
      "        -0.12544113, -0.01676399, -0.06055286,  0.20743144,  0.04405249,\n",
      "        -0.14946388,  0.07391347, -0.2184664 , -0.04126198, -0.12187162,\n",
      "        -0.03509871, -0.14898987, -0.1618761 , -0.07054595,  0.00897791,\n",
      "         0.02096277,  0.1081908 ,  0.04657381,  0.07484344,  0.13602298,\n",
      "        -0.01864571,  0.08405475,  0.10197237, -0.1726375 , -0.05620126,\n",
      "         0.15347564, -0.19637   ,  0.10122629, -0.17812736, -0.20957863,\n",
      "        -0.14593858, -0.07339723,  0.0138755 ,  0.20313016, -0.07974336,\n",
      "         0.12660348, -0.03786254, -0.12754035,  0.18202981,  0.17874679,\n",
      "        -0.07214843, -0.19085932, -0.21186677, -0.04141383, -0.12904164,\n",
      "        -0.02508985, -0.11572316,  0.09308513,  0.1446958 , -0.07640547,\n",
      "         0.09556191,  0.17458294,  0.177508  ],\n",
      "       [ 0.00461625,  0.18009578,  0.20263077, -0.02147288,  0.00803436,\n",
      "        -0.03069187,  0.17696546,  0.08559453,  0.15581463,  0.09583461,\n",
      "         0.00411933,  0.213646  , -0.05718169, -0.05280899, -0.13277128,\n",
      "         0.08429651,  0.04555535, -0.11887064,  0.17352872,  0.12804595,\n",
      "         0.04510554,  0.17005867, -0.1347099 ,  0.07067448, -0.20579983,\n",
      "         0.02165587,  0.03483079, -0.0879513 , -0.01657239, -0.07135471,\n",
      "        -0.03822589, -0.21256669,  0.1559833 ,  0.14937662,  0.01632094,\n",
      "        -0.08856294,  0.0085459 , -0.00822549,  0.17462058,  0.13494028,\n",
      "         0.15030713, -0.02785752, -0.12851045, -0.02835107, -0.10557032,\n",
      "        -0.09802368, -0.14376968,  0.17716698, -0.17414302,  0.18092665,\n",
      "         0.15886068, -0.12572642,  0.10972623,  0.1498334 ,  0.05338016,\n",
      "         0.16678482, -0.04335577,  0.05485185, -0.18361704,  0.20458211,\n",
      "        -0.11756937,  0.00745301,  0.13711612, -0.10100716,  0.09484904,\n",
      "         0.12790973,  0.04698203,  0.14751679,  0.02572227, -0.08550964,\n",
      "        -0.13963227,  0.03862734, -0.14732184,  0.1723148 , -0.05960911,\n",
      "         0.10525431,  0.23182961, -0.07108329,  0.02947816,  0.12706405,\n",
      "         0.15926418, -0.17993887, -0.05982126, -0.20304535, -0.18780911,\n",
      "        -0.17143823, -0.00650589, -0.05809203, -0.03382835,  0.01614689,\n",
      "        -0.17551199, -0.12300079,  0.03573493,  0.03810652,  0.12958413,\n",
      "        -0.13967782,  0.17672683,  0.11919007, -0.08564547, -0.11681008,\n",
      "        -0.05439173,  0.10404935,  0.14487769, -0.15540077,  0.15166822,\n",
      "         0.12276604, -0.03721349,  0.19764908,  0.16677746, -0.00520152,\n",
      "        -0.17406903, -0.06721786, -0.02572076,  0.06234336,  0.14097258,\n",
      "        -0.06461539, -0.19205213, -0.17034556, -0.20076038,  0.1942248 ,\n",
      "         0.01642798,  0.13398106,  0.15692681, -0.10219292, -0.09929425,\n",
      "         0.00967938, -0.17168663,  0.00930182]], dtype=float32), array([-0.05474461,  0.01873943,  0.02949505, -0.04678935, -0.03345   ,\n",
      "       -0.05162028,  0.02573393,  0.03164669,  0.03517702,  0.04459202,\n",
      "       -0.02039675,  0.02335281, -0.04633838, -0.03298805, -0.02043783,\n",
      "        0.04713161,  0.03489004, -0.01153157,  0.00567186,  0.01787506,\n",
      "       -0.02383993,  0.01952348, -0.0341193 , -0.04565227, -0.02680825,\n",
      "       -0.04798634,  0.04777514,  0.01548824,  0.01724599,  0.03196067,\n",
      "       -0.03590542, -0.0125009 ,  0.02272893, -0.04330368,  0.05150025,\n",
      "       -0.05206675, -0.0608436 , -0.05936398, -0.00711439,  0.041224  ,\n",
      "        0.0205761 , -0.0408739 , -0.01096633,  0.05372166, -0.04967052,\n",
      "       -0.03100225, -0.03663125,  0.02243665, -0.02702015,  0.04654615,\n",
      "        0.01644734, -0.02346395, -0.02393465,  0.01994111,  0.04368175,\n",
      "        0.03769847, -0.00918362,  0.03891442,  0.06089742,  0.03450369,\n",
      "       -0.04404771, -0.02461539,  0.04065841, -0.02108166,  0.04447368,\n",
      "        0.02073004, -0.00648007,  0.03581376,  0.04184031,  0.05945192,\n",
      "       -0.02576572,  0.04179678, -0.04254061, -0.02122015, -0.03143879,\n",
      "        0.03667225, -0.02541432,  0.04433937, -0.05564525, -0.06333136,\n",
      "        0.02801785,  0.04429661, -0.03383764, -0.02912583, -0.04122591,\n",
      "        0.02796281,  0.05026362,  0.05550342,  0.0690282 ,  0.00562135,\n",
      "        0.01606049, -0.02392705,  0.03334569,  0.04710358,  0.03808966,\n",
      "       -0.01965372,  0.01465929,  0.03144857, -0.03394933, -0.02892972,\n",
      "       -0.03147769, -0.05320558,  0.03024062, -0.04594363,  0.03268215,\n",
      "        0.04286851,  0.05263465,  0.01922013,  0.03959506, -0.03931992,\n",
      "       -0.03592819, -0.00365694, -0.05163626, -0.05073408,  0.0204316 ,\n",
      "        0.07229082, -0.03454837,  0.00419032,  0.05855244, -0.00525974,\n",
      "        0.05203824,  0.02657281, -0.02974091,  0.00795509, -0.00732402,\n",
      "        0.04689836, -0.02266371,  0.05109696], dtype=float32), array([[-0.1488676 ,  0.01330865,  0.07447312, ...,  0.00228606,\n",
      "        -0.14612988,  0.07012201],\n",
      "       [ 0.14317638, -0.17612131,  0.02787534, ...,  0.12912163,\n",
      "        -0.028156  ,  0.11051972],\n",
      "       [ 0.15038747, -0.15006392,  0.06451731, ..., -0.07338723,\n",
      "        -0.14406289, -0.00634754],\n",
      "       ...,\n",
      "       [-0.10410815,  0.10547762, -0.07324044, ..., -0.05110875,\n",
      "        -0.1098054 ,  0.04606462],\n",
      "       [ 0.03490875,  0.02751986,  0.14138246, ..., -0.1795922 ,\n",
      "        -0.03823251, -0.04317665],\n",
      "       [ 0.17852882,  0.12179238, -0.03310549, ...,  0.05559748,\n",
      "        -0.05751727,  0.11863829]], dtype=float32), array([ 0.05243209,  0.06945162, -0.05739692, -0.0465283 ,  0.04002331,\n",
      "       -0.05393375, -0.03817645,  0.06769944,  0.04081065, -0.02691505,\n",
      "        0.03854301,  0.02708084, -0.05865046,  0.05227162,  0.05904451,\n",
      "        0.0052532 , -0.00458314,  0.048772  , -0.06454643, -0.04430789,\n",
      "       -0.04287891,  0.02969978, -0.04220254, -0.0440886 ,  0.05351523,\n",
      "       -0.04066053,  0.04377342,  0.06563795,  0.01437847, -0.01456871,\n",
      "        0.03327603, -0.0125966 ,  0.05515615, -0.03831524,  0.03830061,\n",
      "       -0.04514527, -0.04231482,  0.03249362, -0.04391072, -0.05096764,\n",
      "        0.02304664,  0.07029976,  0.01942131,  0.03098564, -0.00839691,\n",
      "        0.05073378,  0.03328598, -0.03289753,  0.05470255, -0.05990532,\n",
      "       -0.03552833, -0.0594297 , -0.0517582 ,  0.05587899, -0.02688975,\n",
      "        0.0575868 ,  0.02360295, -0.05573905, -0.01555248,  0.03890852,\n",
      "       -0.00440076, -0.04635362,  0.01663991,  0.04029097,  0.02072298,\n",
      "        0.01678047,  0.04411055, -0.04851951,  0.03137599,  0.0376155 ,\n",
      "       -0.0146756 ,  0.00476871,  0.04422542, -0.03959686, -0.07717671,\n",
      "       -0.04618258, -0.02056274,  0.03768887,  0.00250861,  0.08003148,\n",
      "        0.02556522, -0.05565843, -0.04590373,  0.01579127,  0.03819405,\n",
      "       -0.0025289 ,  0.04502221,  0.03273594,  0.06091746,  0.01619379,\n",
      "        0.05704199, -0.07555435,  0.08439576,  0.02997554,  0.03546482,\n",
      "        0.04207866, -0.05306495, -0.03959673,  0.03243773,  0.02739429,\n",
      "        0.03414224,  0.04174926, -0.00910887, -0.03664295,  0.06572191,\n",
      "        0.03570555, -0.04851045, -0.03275732,  0.02984535,  0.03483592,\n",
      "       -0.05086599,  0.01114308,  0.04233059, -0.0193075 ,  0.03618752,\n",
      "       -0.04516673,  0.02469708,  0.03074945, -0.05029004, -0.04899946,\n",
      "        0.03911003, -0.02865316,  0.03992655,  0.08031446,  0.05598469,\n",
      "        0.04301385, -0.00412957,  0.00407036], dtype=float32), array([[ 0.00388131,  0.09778287,  0.13334702, ..., -0.06192168,\n",
      "        -0.17207031, -0.04148037],\n",
      "       [ 0.03936526, -0.15808602, -0.00743846, ..., -0.09829994,\n",
      "        -0.00605696,  0.14676555],\n",
      "       [ 0.03477259,  0.11193922,  0.06400438, ...,  0.17753881,\n",
      "         0.03563363, -0.15466662],\n",
      "       ...,\n",
      "       [ 0.07880292,  0.06395552, -0.1471356 , ...,  0.06635296,\n",
      "         0.12368909, -0.04404284],\n",
      "       [ 0.08292721, -0.05149825,  0.04995767, ...,  0.15311475,\n",
      "        -0.09605253,  0.07486714],\n",
      "       [-0.14707279, -0.08530745, -0.10510551, ..., -0.03999904,\n",
      "        -0.03966567, -0.07308426]], dtype=float32), array([ 0.03782091,  0.01613148,  0.04393573,  0.04188147,  0.0441329 ,\n",
      "        0.04907715, -0.04854495, -0.04302581,  0.03045901, -0.04785009,\n",
      "        0.04289031,  0.03549024, -0.06156358, -0.04950785,  0.01260572,\n",
      "       -0.03698459, -0.0550122 , -0.04282028, -0.05816725, -0.08280719,\n",
      "        0.03761643,  0.0248552 ,  0.02896005, -0.07122092,  0.0312199 ,\n",
      "        0.00111641,  0.02544162, -0.05361868,  0.04779338, -0.01400063,\n",
      "       -0.06760015, -0.02773796,  0.02201307, -0.03703633,  0.02100301,\n",
      "        0.03539294, -0.02785349,  0.03729058,  0.03648969,  0.00105919,\n",
      "        0.05114101,  0.0225932 , -0.04533196, -0.0280208 ,  0.0293884 ,\n",
      "       -0.05199587,  0.03674327,  0.02850307, -0.07266518, -0.01726094,\n",
      "       -0.05674696,  0.03372582,  0.00872452, -0.06361736, -0.06365141,\n",
      "       -0.05872123,  0.03863022, -0.03830639, -0.03655201, -0.04753884,\n",
      "       -0.04115558, -0.02747859, -0.06899825, -0.05084561, -0.05153777,\n",
      "       -0.06946896, -0.05030993, -0.00642343,  0.03478362,  0.03583181,\n",
      "       -0.01127332, -0.04942364,  0.03330663, -0.05295162, -0.03027495,\n",
      "       -0.04370824, -0.05227866, -0.04217855, -0.01434468,  0.04890298,\n",
      "        0.03935496, -0.0695342 , -0.07696113, -0.02644107,  0.03787164,\n",
      "       -0.03055   ,  0.00940403,  0.01286303,  0.03795689, -0.04584823,\n",
      "        0.01649938, -0.05015855, -0.05675472, -0.04390931, -0.00494288,\n",
      "        0.02135488,  0.0308427 ,  0.03735593, -0.04044419, -0.05358647,\n",
      "        0.04219956, -0.05842936,  0.03917419, -0.0135076 ,  0.04221833,\n",
      "       -0.01440512, -0.03139203, -0.04685351,  0.05101038,  0.04317912,\n",
      "       -0.03465394, -0.03860096, -0.05079545,  0.00827951, -0.04266119,\n",
      "       -0.04555032,  0.03828522,  0.00696318, -0.00596169,  0.04390934,\n",
      "       -0.04643591,  0.01755758, -0.03609967, -0.03240292,  0.03619332,\n",
      "       -0.04823416, -0.01202947,  0.03112505], dtype=float32), array([[-0.00249645, -0.08623997,  0.10512765, ...,  0.08577444,\n",
      "         0.08251482, -0.04215653],\n",
      "       [ 0.14638951, -0.06739184,  0.02977849, ..., -0.10182716,\n",
      "         0.06748201, -0.07041816],\n",
      "       [ 0.0654834 , -0.12689339,  0.09604628, ..., -0.02243464,\n",
      "         0.0335884 , -0.20585802],\n",
      "       ...,\n",
      "       [-0.05978125,  0.14239511, -0.15916847, ..., -0.06823172,\n",
      "        -0.08488259,  0.14763905],\n",
      "       [-0.05687662,  0.04597932,  0.17006758, ...,  0.08683555,\n",
      "        -0.18759854, -0.00378594],\n",
      "       [-0.02708859,  0.02246622,  0.14334922, ..., -0.14893615,\n",
      "         0.02813397, -0.14749043]], dtype=float32), array([ 0.01597438, -0.04029227,  0.02748674,  0.05469901,  0.01029396,\n",
      "       -0.03117152, -0.03664531,  0.02250459,  0.02192254,  0.02612214,\n",
      "       -0.04960788, -0.03644283,  0.03259666,  0.0117553 , -0.00440618,\n",
      "        0.03685996, -0.04002983, -0.03380615,  0.01691044, -0.01495702,\n",
      "       -0.04671611, -0.043973  , -0.00478736, -0.06181512,  0.00564715,\n",
      "       -0.03767481, -0.01244895,  0.0108113 ,  0.04081296,  0.01624942,\n",
      "       -0.0375398 , -0.00808299,  0.01213212, -0.03785541, -0.04094422,\n",
      "       -0.00149179,  0.00759025,  0.03049179, -0.05563019, -0.03722132,\n",
      "       -0.00247243,  0.00739722, -0.04321006,  0.0258727 , -0.03028388,\n",
      "       -0.03560282,  0.02626589,  0.05212497,  0.0048876 ,  0.00179976,\n",
      "        0.02808422, -0.00278124, -0.0391517 , -0.04660806,  0.00891194,\n",
      "       -0.04044422,  0.05234247, -0.03369283,  0.00628791, -0.03358097,\n",
      "        0.03255126,  0.04521345,  0.02596963,  0.01031386, -0.05724791,\n",
      "        0.02510383,  0.03458256,  0.01224888, -0.05900165, -0.0469835 ,\n",
      "       -0.05426282,  0.00472943,  0.02203887, -0.06713701,  0.04429884,\n",
      "        0.03486499, -0.04444133, -0.0407676 , -0.07363573, -0.02973029,\n",
      "       -0.04827163,  0.0373258 , -0.04503131, -0.04874754,  0.00431121,\n",
      "        0.03702247, -0.03098656,  0.03010097, -0.07369014,  0.02769794,\n",
      "       -0.02801486, -0.04855578, -0.01862214,  0.04064724, -0.04498651,\n",
      "        0.03049589, -0.01668207, -0.07404185, -0.05067909, -0.04854961,\n",
      "        0.03532432,  0.00087112,  0.04566339, -0.03111312, -0.00696908,\n",
      "       -0.02376934, -0.04166527,  0.03856387, -0.02059733, -0.04094045,\n",
      "       -0.03677803,  0.03338558,  0.04792282,  0.04183899,  0.01241067,\n",
      "       -0.04578155,  0.0624474 , -0.02120917,  0.01904276, -0.06033959,\n",
      "        0.0113589 , -0.00607682, -0.02620683, -0.06426833, -0.03334381,\n",
      "       -0.01583769,  0.02495994, -0.04494081], dtype=float32), array([[ 0.02692002, -0.09943835,  0.00533839, ..., -0.1337633 ,\n",
      "         0.08533984,  0.08512313],\n",
      "       [-0.06777819,  0.08937594, -0.0249618 , ..., -0.0448566 ,\n",
      "        -0.06197895,  0.06439367],\n",
      "       [ 0.01396848, -0.1575978 , -0.00770134, ..., -0.14583331,\n",
      "         0.12137194, -0.09489361],\n",
      "       ...,\n",
      "       [ 0.11299676, -0.10702903, -0.07200965, ...,  0.13286766,\n",
      "         0.04761044,  0.00187729],\n",
      "       [ 0.01703046,  0.13157037, -0.20684524, ..., -0.09611274,\n",
      "        -0.0527262 , -0.02428224],\n",
      "       [ 0.01567564,  0.24374291,  0.04202956, ...,  0.15251228,\n",
      "        -0.02981794, -0.06804647]], dtype=float32), array([ 0.02818651, -0.03934146, -0.05629778,  0.0050686 , -0.03838115,\n",
      "        0.00359661,  0.02848792, -0.04441454,  0.01716472, -0.00938355,\n",
      "       -0.03604043, -0.01582316, -0.02783418, -0.03199804,  0.00948642,\n",
      "       -0.04610596, -0.00346081, -0.02701623,  0.02031878, -0.04713086,\n",
      "        0.0248462 , -0.03645667, -0.0271487 ,  0.01839139,  0.02492009,\n",
      "       -0.046801  , -0.03815243, -0.06026166, -0.00457525, -0.00867965,\n",
      "        0.02398749, -0.03217347,  0.00927051, -0.01826018,  0.02144316,\n",
      "       -0.01795224, -0.02792188, -0.04991568, -0.00435996, -0.03495222,\n",
      "        0.00643288, -0.00630173,  0.00702856, -0.02269814, -0.06576511,\n",
      "        0.02488263, -0.01185776, -0.03892949, -0.03115513,  0.01391556,\n",
      "        0.01345934, -0.02853982, -0.02205422, -0.06966624, -0.02130919,\n",
      "       -0.0336124 , -0.03238489,  0.02522029,  0.00676147, -0.03722354,\n",
      "       -0.02407945, -0.04034563, -0.00891918, -0.04241233,  0.01117833,\n",
      "        0.01469583, -0.03421134, -0.04668609, -0.00165767,  0.01058858,\n",
      "       -0.05613747, -0.02847599,  0.02204903, -0.00525838, -0.05596404,\n",
      "        0.02010554, -0.03164199, -0.03086305,  0.02256561, -0.00243761,\n",
      "        0.01663882,  0.00018512, -0.00426381, -0.02637018, -0.02433408,\n",
      "       -0.03807319,  0.0176682 ,  0.00620771, -0.04821282, -0.06129511,\n",
      "        0.03382821, -0.035891  , -0.01742142, -0.00053661, -0.0355198 ,\n",
      "       -0.03255703,  0.02917408,  0.01277579,  0.01791511, -0.05096686,\n",
      "        0.03523913, -0.04290954, -0.00892031, -0.02502255, -0.02337786,\n",
      "        0.03049449, -0.04040957, -0.03147345,  0.01952383, -0.02140557,\n",
      "       -0.05063382,  0.03012421, -0.0254404 , -0.01462852,  0.01776481,\n",
      "       -0.04644364,  0.0020434 , -0.01120673, -0.07034571, -0.0421426 ,\n",
      "       -0.05406823,  0.02900392, -0.02423133, -0.03204288, -0.00134534,\n",
      "       -0.04227508,  0.02152014, -0.04733552], dtype=float32), array([[-0.14005348,  0.12607273,  0.11199389, ..., -0.10181709,\n",
      "        -0.06818202, -0.02311352],\n",
      "       [ 0.10207284, -0.13698795, -0.15576072, ..., -0.03181157,\n",
      "        -0.00708975,  0.06314237],\n",
      "       [ 0.0819559 , -0.10899559, -0.008889  , ...,  0.07377483,\n",
      "        -0.03851007, -0.05704037],\n",
      "       ...,\n",
      "       [ 0.17299351, -0.06374541, -0.1485432 , ...,  0.1193084 ,\n",
      "         0.12838814, -0.00244761],\n",
      "       [-0.12225743, -0.03625858,  0.04774678, ...,  0.14728628,\n",
      "         0.1096769 , -0.08579137],\n",
      "       [ 0.14737982, -0.09290737,  0.11015809, ...,  0.08513768,\n",
      "         0.07163328, -0.09026391]], dtype=float32), array([-0.02590788,  0.01785757,  0.00282606, -0.02366908,  0.00782097,\n",
      "       -0.0049774 , -0.03359044,  0.02172456, -0.04661134,  0.00943433,\n",
      "       -0.0264859 ,  0.02631831, -0.03311481, -0.01826862, -0.04075628,\n",
      "       -0.03453223, -0.05515523,  0.01699388, -0.02089973, -0.0020008 ,\n",
      "       -0.01854867, -0.02627251,  0.01851467, -0.03754172, -0.02163643,\n",
      "       -0.04483636, -0.02253904,  0.02978356,  0.02147132,  0.02054142,\n",
      "        0.01397152, -0.01331336, -0.04211044,  0.02810492,  0.00484063,\n",
      "        0.00413604, -0.03608242, -0.01272637,  0.01388836,  0.02256249,\n",
      "        0.02349676,  0.03287811, -0.00814976,  0.00472469, -0.02758268,\n",
      "       -0.02353638, -0.02278996, -0.0068812 , -0.03751443, -0.02399002,\n",
      "        0.04071595, -0.05398841,  0.03588376, -0.0293525 ,  0.02767789,\n",
      "       -0.03227564, -0.02353515,  0.009331  , -0.02515433,  0.00200493,\n",
      "        0.02371565, -0.02292109, -0.03576557,  0.02811097,  0.00862761,\n",
      "       -0.06978586, -0.0286248 ,  0.03457091, -0.02281443, -0.01020656,\n",
      "        0.02902446,  0.02987838, -0.00382048, -0.00627643, -0.0294912 ,\n",
      "        0.0319364 , -0.01290429,  0.01836915,  0.02335758, -0.03224262,\n",
      "        0.00057773, -0.02584845, -0.05058438,  0.01998948,  0.01077576,\n",
      "        0.02344415, -0.03891421,  0.00307209,  0.02721438,  0.02399312,\n",
      "       -0.04939555, -0.02349562, -0.04702001, -0.03097828, -0.03583109,\n",
      "       -0.01761508,  0.02341999, -0.02979469, -0.04820189, -0.02963981,\n",
      "       -0.02109206,  0.00819733, -0.04094904, -0.02425888,  0.02275809,\n",
      "       -0.02835895,  0.02429794,  0.00675599, -0.00630623, -0.002994  ,\n",
      "       -0.02515108,  0.02581939, -0.02782298,  0.02896135, -0.0072852 ,\n",
      "        0.01045116, -0.02848349, -0.04838893, -0.02334304, -0.02223717,\n",
      "       -0.05554618,  0.02722858,  0.02579553,  0.03220291, -0.05174746,\n",
      "        0.0286672 ,  0.01996773, -0.01381408], dtype=float32), array([[ 0.03753879,  0.10098632,  0.1457509 , ...,  0.07449887,\n",
      "        -0.07864007, -0.03476208],\n",
      "       [-0.12180326,  0.07321256,  0.11844371, ..., -0.16231622,\n",
      "         0.02711396, -0.17557248],\n",
      "       [-0.1414113 , -0.00799878,  0.09379011, ..., -0.20208623,\n",
      "        -0.13920413, -0.08269247],\n",
      "       ...,\n",
      "       [ 0.050755  ,  0.1140577 , -0.08711083, ...,  0.06236199,\n",
      "         0.11039053,  0.15957154],\n",
      "       [ 0.10136905, -0.04418339, -0.15703802, ...,  0.004132  ,\n",
      "        -0.13305828, -0.12909576],\n",
      "       [ 0.04631163, -0.00252109, -0.18079355, ...,  0.13334127,\n",
      "        -0.01563734, -0.05231797]], dtype=float32), array([-0.03286065, -0.03671657, -0.03814802, -0.02754881, -0.03386587,\n",
      "       -0.03966449, -0.03871959, -0.03795819, -0.03330291, -0.03303465,\n",
      "       -0.02740341, -0.01814621, -0.03390894, -0.03006824, -0.01724241,\n",
      "       -0.02837954, -0.04524546, -0.0386207 , -0.03531416, -0.02473176,\n",
      "       -0.02943955, -0.02155736, -0.03079268, -0.03532179, -0.02282838,\n",
      "       -0.02101866, -0.05447674, -0.02864946, -0.01866119, -0.0271848 ,\n",
      "       -0.03303985, -0.03028978, -0.01741915, -0.02785819, -0.04495542,\n",
      "       -0.02931381, -0.03578522, -0.03006692, -0.01809408, -0.02635657,\n",
      "       -0.01460112, -0.02620336, -0.02225505, -0.04282623, -0.05043168,\n",
      "       -0.03047863, -0.03526896, -0.02643333, -0.03713243, -0.02554736,\n",
      "       -0.04222836, -0.05396656, -0.03301002, -0.01344096], dtype=float32)]\n"
     ]
    }
   ],
   "source": [
    "vae.load_weights(\"out/euromds2/euromds_weights.hdf5\")\n",
    "print(vae.get_weights())\n",
    "mean2 = encoder(data)[0]\n",
    "sd2 = encoder(data)[1]\n",
    "sample2 = encoder(data)[2]"
   ]
  },
  {
   "cell_type": "code",
   "execution_count": 147,
   "id": "478b37e3",
   "metadata": {},
   "outputs": [
    {
     "data": {
      "text/plain": [
       "<matplotlib.collections.PathCollection at 0x25e480f7288>"
      ]
     },
     "execution_count": 147,
     "metadata": {},
     "output_type": "execute_result"
    },
    {
     "data": {
      "image/png": "[encoded data removed]",
      "text/plain": [
       "<Figure size 432x288 with 1 Axes>"
      ]
     },
     "metadata": {
      "needs_background": "light"
     },
     "output_type": "display_data"
    }
   ],
   "source": [
    "fig,ax = plt.subplots()\n",
    "ax.scatter(mean2[:,0],mean2[:,1],s=3)"
   ]
  },
  {
   "cell_type": "code",
   "execution_count": 148,
   "id": "cefc953b",
   "metadata": {},
   "outputs": [
    {
     "data": {
      "text/plain": [
       "<matplotlib.collections.PathCollection at 0x25e48176808>"
      ]
     },
     "execution_count": 148,
     "metadata": {},
     "output_type": "execute_result"
    },
    {
     "data": {
      "image/png": "[encoded data removed]",
      "text/plain": [
       "<Figure size 432x288 with 1 Axes>"
      ]
     },
     "metadata": {
      "needs_background": "light"
     },
     "output_type": "display_data"
    }
   ],
   "source": [
    "fig,ax = plt.subplots()\n",
    "ax.scatter(sample2[:,0],sample2[:,1],s=3)"
   ]
  },
  {
   "cell_type": "code",
   "execution_count": null,
   "id": "7c3299cc",
   "metadata": {},
   "outputs": [],
   "source": []
  },
  {
   "cell_type": "code",
   "execution_count": null,
   "id": "a4a08502",
   "metadata": {},
   "outputs": [],
   "source": [
    "meglio usare la media invece del sample oppure diminuire la std "
   ]
  },
  {
   "cell_type": "code",
   "execution_count": null,
   "id": "aa0e1739",
   "metadata": {},
   "outputs": [],
   "source": [
    "prova a cambiare dimensione del latent layer e applicare algoritmi di clustering"
   ]
  },
  {
   "cell_type": "code",
   "execution_count": null,
   "id": "86947b24",
   "metadata": {},
   "outputs": [],
   "source": [
    "controlla che a diversi run le medie e sd siano le stesse ma le samples no"
   ]
  }
 ],
 "metadata": {
  "kernelspec": {
   "display_name": "Python 3",
   "language": "python",
   "name": "python3"
  },
  "language_info": {
   "codemirror_mode": {
    "name": "ipython",
    "version": 3
   },
   "file_extension": ".py",
   "mimetype": "text/x-python",
   "name": "python",
   "nbconvert_exporter": "python",
   "pygments_lexer": "ipython3",
   "version": "3.7.11"
  }
 },
 "nbformat": 4,
 "nbformat_minor": 5
}
